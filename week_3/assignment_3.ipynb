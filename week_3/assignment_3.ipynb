{
 "cells": [
  {
   "cell_type": "markdown",
   "metadata": {},
   "source": [
    "# Kaj Meijer, 10509534\n",
    "\n",
    "# Lotte Philippus, 11291168"
   ]
  },
  {
   "cell_type": "code",
   "execution_count": 2,
   "metadata": {},
   "outputs": [],
   "source": [
    "from scipy import stats\n",
    "import numpy as np\n",
    "import random\n",
    "\n",
    "%matplotlib inline\n",
    "import matplotlib.pyplot as plt"
   ]
  },
  {
   "cell_type": "markdown",
   "metadata": {},
   "source": [
    "# Q-Learning\n",
    "\n",
    "Q-learning algorithmes zijn gebaseerd op de TD-learning modellen die we eerder hebben besproken. Q-learning leert direct de associatie tussen states, actions en outcomes. De robot gaat nu dus niet alleen maar belongingen krijgen maar ook uitzoeken welke handeling de beste is geveven de situatie. \n",
    "\n",
    "Details over Q-learning zijn terug te vinden in de college slides en het hoofdstuk van Gureckis & Love [**computational reinforcement learning**](http://bradlove.org/papers/GureckisLovePress.pdf) en voor meer verdieping in het online boek van [**Sutton & Barto**](http://incompleteideas.net/book/bookdraft2018jan1.pdf) en dan met name hoofdstuk 6.\n",
    "\n",
    "Het leren in deze opdracht speelt zich af in een simpel **Markov Decision Process** met de volgende structuur:\n",
    "\n",
    "![](bandit_arms.png)\n",
    "\n",
    "In deze taak moet de robot telkens uit een van de schatkisten iets pakken. In sommige schatkisten zit meer geld dan in anderen, maar de robot weet in het begin nog niks over de schatkisten, en verwacht er maar weinig van. In elke ronde wordt uitkomst van een schatkist bepaald door een trekking van een waarde uit een normaalverdeling.\n",
    "\n",
    "De uitkomsten van schatkisten verschillen in hun gemiddelde maar niet de variatie (standaard deviatie). \n",
    "\n",
    "**Let op:** In dit simpele experiment is er maar een state, waarin de robot telkens terugkeert na het maken van een keuze. Dit heeft als gevolg dat bij het leren geen rekening gehouden hoeft te worden met de actie in de volgende state gemaakt wordt. De standaard prediction-error:\n",
    "\n",
    "$$\\delta = r_{t+1} + \\gamma\\ max_a\\ Q(s_{t+1} , a) − Q(s_t , a_t)$$\n",
    "\n",
    "verandert dus simpelweg in:\n",
    "$$\\delta = r_{t+1} − Q(s_t , a_t)$$\n",
    "\n",
    "In het begin van het experiment heeft de robot geen enkele kennis van de wereld en geen enkele verwachtingen voor van het krijgen van beloningen. Voor elke schatkist geldt:\n",
    "\n",
    "$$Q(1)=Q(2)=Q(3)=Q(4)=0$$\n",
    "\n"
   ]
  },
  {
   "cell_type": "markdown",
   "metadata": {},
   "source": [
    "### Q1.a (5 punten)\n",
    "\n",
    "Schrijf de Q-learning functie op die de nieuwe waarde Q uitrekent nadat de robot een schatkist heeft uitgekozen. Welke vrije variabele heeft deze functie en wat is zijn rol in leren? \n"
   ]
  },
  {
   "cell_type": "markdown",
   "metadata": {},
   "source": [
    "Q is de leerwaarde.\n",
    "r is de beloning.\n",
    "s is de staat.\n",
    "a is de actie.\n",
    "alpha is de leersnelheid en is de vrije variabele."
   ]
  },
  {
   "cell_type": "code",
   "execution_count": 3,
   "metadata": {},
   "outputs": [],
   "source": [
    "def update_Q(Q, r, s, a, alpha):\n",
    "    return Q[s, a] + alpha*(r - Q[s, a])"
   ]
  },
  {
   "cell_type": "markdown",
   "metadata": {},
   "source": [
    "### Q1.b (5 punten)\n",
    "\n",
    "Stel de robot selecteert schatkist 1 en vindt twee munten. Wat is hierna de waarde van Q(1)? rapporteer dit voor\n",
    "$\\alpha=0.5$ en $\\alpha=0.2$"
   ]
  },
  {
   "cell_type": "code",
   "execution_count": 4,
   "metadata": {},
   "outputs": [
    {
     "name": "stdout",
     "output_type": "stream",
     "text": [
      "[[0. 1. 0. 0.]]\n",
      "[[0.  0.4 0.  0. ]]\n"
     ]
    }
   ],
   "source": [
    "def printQ(alpha):\n",
    "    \n",
    "    Q = np.zeros((1, 4))\n",
    "    s = 0\n",
    "    a = 1\n",
    "    r = 2\n",
    "    Q[s, a] = update_Q(Q, r, s, a, alpha)\n",
    "    print(Q)\n",
    "\n",
    "\n",
    "alpha = 0.5\n",
    "printQ(alpha)\n",
    "\n",
    "alpha = 0.2\n",
    "printQ(alpha)\n"
   ]
  },
  {
   "cell_type": "markdown",
   "metadata": {},
   "source": [
    "### Q1.c (10 punten)\n",
    "\n",
    "Schrijf een functie `q_learn` die als input, alpha ($\\alpha$), epsilon($\\epsilon$) en rondes (trials) accepteert. De output van deze functie moet een lijst met $Q$ waarden zijn voor elke schatkist (1 t/m 4) in de wereld van de robot na het leren van een aantal rondes. We gaan er nu van uit dat de robot de $\\epsilon$-greedy keuze regel toepast.\n",
    "\n",
    "* Initieer de verwachtingen van de robot voor de 4 keuzes:\n",
    "    * Q(1)=Q(2)=Q(3)=Q(4)=0. \n",
    "* Intieer total_score = 0\n",
    "* Initieer de beloningen voor de 4 schatkisten:\n",
    "    * K(1): mean=20, SD=4\n",
    "    * K(2): mean=30, SD=4\n",
    "    * K(3): mean=50, SD=4\n",
    "    * K(4): mean=70, SD=4\n",
    "* Creëer een for-loop over alle rondes:\n",
    "    * Elke ronde selecteert de robot een kist op basis van $\\epsilon$-greedy. Denk er aan bij explore een random kist, bij exploit de kist met hoogste Q-value (als er meerdere de hoogste waarde hebben, daar weer random uit kiezen). \n",
    "    * Kijk wat de beloning is na maken van een keuze, en update dan Q-value van die kist. \n",
    "* zorg dat deze functie de volgende lijsten als output heeft: final Q values, total_score, en voor elke schatkist een lijst wanneer deze gekozen werd (1 voor gekozen een 0 wanneer niet gekozen). Dit resulteert in 4 lijsten met keuzes die gebruikt kunnen worden voor het plotten van het gedrag van het model.\n",
    "\n",
    "\n",
    "Laat me behulp van deze functie de robot 200 rondes leren over deze wereld (1 leer episode bestaat dus uit 200 rondes). Hoe zien zijn verwachtingen (Q-values) voor de schatkisten aan het eind van het experiment er uit gegeven\n",
    "\n",
    "1. $\\alpha = 0.1$ en $\\epsilon = 0.1$\n",
    "2. $\\alpha = 0.5$ en $\\epsilon = 0.1$\n",
    "\n",
    "Laat voor beide modellen zien wat de totale verdiende score is gedurende de trails, wat de geleede Q-values zijn voor elke kist en plot hoe de keuzes voor de verschillende kisten veranderen gedurende de trails.\n",
    "\n",
    "Voor het plotten van keuzes is het handig om naar het gemiddels van bins van 10 trails tegelijk te kijken. Alvast wat code om je beetje op weg te helpen:\n",
    "```python\n",
    "# Width is de grote van elke bin\n",
    "width = 10\n",
    "# Hier knippen we de laatste (choicelist_1.size % width) elementen van de lijst\n",
    "# Dan reshapen we naar een matrix van X * width en nemen we de mean over de width axis\n",
    "# Hiermee krijgen we dus het gemiddelde aantal keer dat deze keuze gemaakt is voor width stappen\n",
    "result1 = choicelist_1[:(choicelist_1.size // width * width)].reshape(-1, width).mean(axis=1)\n",
    "plt.plot(result1, label=r\"$1$\")\n",
    "```\n",
    "\n",
    "Welk van de twee geleerde modellen zit dichter bij de waarheid op basis van deze resultaten?\n"
   ]
  },
  {
   "cell_type": "markdown",
   "metadata": {},
   "source": [
    "Model 2 met $\\alpha = 0.5$ zit dichter bij de waarheid, want de Q-waarden zitten dichter bij de means. "
   ]
  },
  {
   "cell_type": "code",
   "execution_count": 5,
   "metadata": {},
   "outputs": [],
   "source": [
    "def q_learn(alpha, epsilon, trials = 200):\n",
    "    \n",
    "    # initialize starting values\n",
    "    Q = np.zeros((1, 4))\n",
    "    total_score = 0\n",
    "    means = [20, 30, 50, 70] \n",
    "    SD = 4   \n",
    "    choices = np.zeros((4,trials))\n",
    "    \n",
    "    # loop over the trials\n",
    "    for trial in range(trials):\n",
    "\n",
    "        # choose action\n",
    "        if random.random() < epsilon:\n",
    "            \n",
    "            # random action\n",
    "            action = random.randint(0,3)\n",
    "        else:\n",
    "            \n",
    "            # greedy action\n",
    "            highest = max(Q[0])\n",
    "            options = [x for x in range(len(Q[0])) if Q[0, x] == highest]\n",
    "            action = random.choice(options)\n",
    "\n",
    "        # get the reward for the action\n",
    "        K = np.random.normal(means[action], SD)\n",
    "        \n",
    "        # update Q value\n",
    "        Q[0, action] = update_Q(Q, K, 0, action, alpha)\n",
    "\n",
    "        total_score += K\n",
    "        \n",
    "        choices[action, trial] = 1\n",
    "        \n",
    "    return Q, total_score, choices        "
   ]
  },
  {
   "cell_type": "code",
   "execution_count": 6,
   "metadata": {
    "scrolled": true
   },
   "outputs": [],
   "source": [
    "def evaluate_q_learn(alpha, epsilon):\n",
    "    Q, total_score, choicelists = q_learn(alpha, epsilon)\n",
    "\n",
    "    print(Q)\n",
    "    print(total_score)\n",
    "\n",
    "    for i in range(len(choicelists)):\n",
    "        choicelist = choicelists[i]\n",
    "\n",
    "        # Width is de grote van elke bin\n",
    "        width = 10\n",
    "        # Hier knippen we de laatste (choicelist_1.size % width) elementen van de lijst\n",
    "        # Dan reshapen we naar een matrix van X * width en nemen we de mean over de width axis\n",
    "        # Hiermee krijgen we dus het gemiddelde aantal keer dat deze keuze gemaakt is voor width stappen\n",
    "        result = choicelist[:(choicelist.size // width * width)].reshape(-1, width).mean(axis=1)\n",
    "        plt.plot(result, label=r\"$\" + str(i + 1) + \"$\")\n",
    "\n",
    "    plt.legend()\n",
    "    plt.show()"
   ]
  },
  {
   "cell_type": "code",
   "execution_count": 7,
   "metadata": {
    "scrolled": true
   },
   "outputs": [
    {
     "name": "stdout",
     "output_type": "stream",
     "text": [
      "[[10.22708674  7.44419634 48.36100831 64.45920406]]\n",
      "10186.810150430354\n"
     ]
    },
    {
     "data": {
      "image/png": "[encoded data removed]",
      "text/plain": [
       "<Figure size 432x288 with 1 Axes>"
      ]
     },
     "metadata": {},
     "output_type": "display_data"
    }
   ],
   "source": [
    "evaluate_q_learn(0.1, 0.1)"
   ]
  },
  {
   "cell_type": "code",
   "execution_count": 8,
   "metadata": {},
   "outputs": [
    {
     "name": "stdout",
     "output_type": "stream",
     "text": [
      "[[20.66856039 27.15617795 39.01539987 70.21835723]]\n",
      "13100.741599944437\n"
     ]
    },
    {
     "data": {
      "image/png": "[encoded data removed]",
      "text/plain": [
       "<Figure size 432x288 with 1 Axes>"
      ]
     },
     "metadata": {},
     "output_type": "display_data"
    }
   ],
   "source": [
    "evaluate_q_learn(0.5, 0.1)"
   ]
  },
  {
   "cell_type": "markdown",
   "metadata": {},
   "source": [
    "### Q1.d (10 punten)\n",
    "\n",
    "Laten we nu kijken hoe succesvol de verschillende strategieën (lees combinatie van parameter waardes) zijn. \n",
    "\n",
    "Schrijf nu een loop die `q_learn` 500 keer aanroept met een bepaalde parameter setting (en altijd 200 leerrondes) en sla telkens het totaal aantal punten op, zodat je aan het eind een lijst hebt van 500 totaal scores. \n",
    "\n",
    "Vergelijk het gemiddelde van die 500 totaalscores voor $\\alpha=0.1$, $\\alpha=0.3$ en $\\alpha=0.5$ met $\\epsilon=0.1$ voor alle experimenten. Leg uit hoe de verschillen tot stand komen. \n"
   ]
  },
  {
   "cell_type": "markdown",
   "metadata": {},
   "source": [
    "Hoe sneller de robot leert, hoe sneller hij de beste keuzes kan maken om zijn score te optimaliseren, dus een hogere leersnelheid resulteert in een hogere totale score. "
   ]
  },
  {
   "cell_type": "code",
   "execution_count": 9,
   "metadata": {},
   "outputs": [],
   "source": [
    "def average_score(alpha, epsilon = 0.1, episodes = 500):\n",
    "    result = []\n",
    "    for _ in range(episodes):\n",
    "        _, total_score, _ = q_learn(alpha, epsilon)\n",
    "        result.append(total_score)\n",
    "    \n",
    "    # get the average score below\n",
    "    return sum(result)/len(result)"
   ]
  },
  {
   "cell_type": "code",
   "execution_count": 10,
   "metadata": {
    "scrolled": true
   },
   "outputs": [
    {
     "data": {
      "text/plain": [
       "9908.723135672379"
      ]
     },
     "execution_count": 10,
     "metadata": {},
     "output_type": "execute_result"
    }
   ],
   "source": [
    "average_score(0.1)"
   ]
  },
  {
   "cell_type": "code",
   "execution_count": 11,
   "metadata": {},
   "outputs": [
    {
     "data": {
      "text/plain": [
       "11879.12327052954"
      ]
     },
     "execution_count": 11,
     "metadata": {},
     "output_type": "execute_result"
    }
   ],
   "source": [
    "average_score(0.3)"
   ]
  },
  {
   "cell_type": "code",
   "execution_count": 12,
   "metadata": {},
   "outputs": [
    {
     "data": {
      "text/plain": [
       "12302.785109621247"
      ]
     },
     "execution_count": 12,
     "metadata": {},
     "output_type": "execute_result"
    }
   ],
   "source": [
    "average_score(0.5)"
   ]
  },
  {
   "cell_type": "markdown",
   "metadata": {},
   "source": [
    "# Exploration-Exploitation\n",
    "\n",
    "We gaan nu dieper in op het exploration vs. exploitation dilemma. Laten we eerst kijken hoe verschillende e parameters uitwerking hebben op het aantal punten dat gewonnen wordt. Gebruik hier de functie van q_learn van de vorige vraag met $\\epsilon=0.05$, $\\epsilon=0.2$ en $\\epsilon=0.6$ en met $\\alpha=0.3$ voor alle experimenten. \n",
    "\n",
    "### Q2.a (10 punten)\n",
    "\n",
    "Kijk voor elke parameter setting weer naar de gemiddelde totaal score van 500 leer episodes. Waar ligt ongeveer het optimale niveau van exploratie?"
   ]
  },
  {
   "cell_type": "markdown",
   "metadata": {},
   "source": [
    "Het optimale niveau van exploratie ligt in deze 3 gevallen bij 0.2"
   ]
  },
  {
   "cell_type": "code",
   "execution_count": 13,
   "metadata": {},
   "outputs": [
    {
     "data": {
      "text/plain": [
       "10868.949116911455"
      ]
     },
     "execution_count": 13,
     "metadata": {},
     "output_type": "execute_result"
    }
   ],
   "source": [
    "average_score(0.3, 0.05)"
   ]
  },
  {
   "cell_type": "code",
   "execution_count": 14,
   "metadata": {},
   "outputs": [
    {
     "data": {
      "text/plain": [
       "12019.620917111142"
      ]
     },
     "execution_count": 14,
     "metadata": {},
     "output_type": "execute_result"
    }
   ],
   "source": [
    "average_score(0.3, 0.2)"
   ]
  },
  {
   "cell_type": "code",
   "execution_count": 15,
   "metadata": {},
   "outputs": [
    {
     "data": {
      "text/plain": [
       "10570.610084612144"
      ]
     },
     "execution_count": 15,
     "metadata": {},
     "output_type": "execute_result"
    }
   ],
   "source": [
    "average_score(0.3, 0.6)"
   ]
  },
  {
   "cell_type": "markdown",
   "metadata": {},
   "source": [
    "### Q2.b (10 punten)\n",
    "\n",
    "Pas nu `q_learn` zo aan dat de parameter $\\epsilon$ gedurende een leer episode steeds kleiner wordt. Dit kan bijvoorbeeld door elke ronde $\\epsilon$ met een vast percentage te verkleinen (denk aan iets tussen 0 en 10%), maar andere manieren zijn ook mogelijk. Sla dit model op als `q_learn_decay`."
   ]
  },
  {
   "cell_type": "code",
   "execution_count": 16,
   "metadata": {},
   "outputs": [],
   "source": [
    "def q_learn_decay(alpha, epsilon, trials = 200):\n",
    "    \n",
    "    # initialize starting values\n",
    "    Q = np.zeros((1, 4))\n",
    "    total_score = 0\n",
    "    means = [20, 30, 50, 70] \n",
    "    SD = 4   \n",
    "    choices = np.zeros((4,trials))\n",
    "    \n",
    "    # loop over the trials\n",
    "    for trial in range(trials):\n",
    "\n",
    "        # choose action\n",
    "        if random.random() < epsilon:\n",
    "            \n",
    "            # random action\n",
    "            action = random.randint(0,3)\n",
    "        else:\n",
    "            \n",
    "            # greedy action\n",
    "            highest = max(Q[0])\n",
    "            options = [x for x in range(len(Q[0])) if Q[0, x] == highest]\n",
    "            action = random.choice(options)\n",
    "\n",
    "        # get the reward for the action\n",
    "        K = np.random.normal(means[action], SD)\n",
    "        \n",
    "        # update Q value\n",
    "        Q[0, action] = update_Q(Q, K, 0, action, alpha)\n",
    "\n",
    "        total_score += K\n",
    "        \n",
    "        choices[action, trial] = 1\n",
    "        \n",
    "        epsilon *= 0.9\n",
    "        \n",
    "    return Q, total_score, choices        "
   ]
  },
  {
   "cell_type": "markdown",
   "metadata": {},
   "source": [
    "### Q2.c (10 punten)\n",
    "\n",
    "Kijk nu naar een aantal beginwaarden voor parameter $\\epsilon$, en kijk welk model meer punten kan verdienen in de taak (verken hier waarden van $\\epsilon$ tussen .1 en .9). Gebruik weer het gemiddelde aantal punten over 500 leer episodes (en nog steeds 200 rondes per episode en $\\alpha =  0.3$). Welk model is het beste en waarom denk je dat dit zo is?\n"
   ]
  },
  {
   "cell_type": "markdown",
   "metadata": {},
   "source": [
    "Het model met epsilon = 0.9 is het beste model. Het begint met veel random stappen, dus hoge exploration, en later neemt hij door de decay steeds vaker de beste stappen, dus hoge exploitation. "
   ]
  },
  {
   "cell_type": "code",
   "execution_count": 17,
   "metadata": {},
   "outputs": [],
   "source": [
    "def average_score_decay(epsilon, alpha = 0.3, episodes = 500):\n",
    "    result = []\n",
    "    for _ in range(episodes):\n",
    "        _, total_score, _ = q_learn_decay(alpha, epsilon)\n",
    "        result.append(total_score)\n",
    "    \n",
    "    # get the average score below\n",
    "    return sum(result)/len(result)"
   ]
  },
  {
   "cell_type": "code",
   "execution_count": 18,
   "metadata": {
    "scrolled": true
   },
   "outputs": [
    {
     "name": "stdout",
     "output_type": "stream",
     "text": [
      "The score is 9345.515346072236 for epsilon = 0.1\n",
      "The score is 9908.244808048721 for epsilon = 0.15000000000000002\n",
      "The score is 9995.228461874509 for epsilon = 0.2\n",
      "The score is 10423.531141311085 for epsilon = 0.25\n",
      "The score is 10274.604639270457 for epsilon = 0.30000000000000004\n",
      "The score is 10629.73112001039 for epsilon = 0.35\n",
      "The score is 10977.400443408926 for epsilon = 0.4\n",
      "The score is 11188.466417606616 for epsilon = 0.45000000000000007\n",
      "The score is 11339.474016320399 for epsilon = 0.5\n",
      "The score is 11227.775901397366 for epsilon = 0.55\n",
      "The score is 11617.17935489681 for epsilon = 0.6\n",
      "The score is 11709.346930008676 for epsilon = 0.65\n",
      "The score is 11980.69288699945 for epsilon = 0.7000000000000001\n",
      "The score is 11963.662802730689 for epsilon = 0.75\n",
      "The score is 12132.230519380808 for epsilon = 0.8\n",
      "The score is 11997.159252696012 for epsilon = 0.85\n",
      "The score is 12188.15671882096 for epsilon = 0.9\n"
     ]
    }
   ],
   "source": [
    "epsilons = np.linspace(0.1, 0.9, 17)\n",
    "\n",
    "for epsilon in epsilons:\n",
    "    a_s = average_score_decay(epsilon)\n",
    "    print(\"The score is\", a_s, \"for epsilon =\", epsilon)"
   ]
  },
  {
   "cell_type": "markdown",
   "metadata": {},
   "source": [
    "## Softmax\n",
    "\n",
    "Een andere zeer populaire methode om exploratie te implementeren is de softmax regel. Deze kan gebruikt worden om de waarschijnlijkheid uit te rekenen dat de robot een specifieke kist kiest. Bijvoorbeeld de waarschijnlijkheid dat de robot op een bepaald moment kist 1 kiest is:\n",
    "\n",
    "$$P(Q(1)) = \\frac{e(Q(1)*theta)}{\\sum_s e(Q(s)*theta)}$$\n",
    "\n",
    "Voor kist 2:\n",
    "\n",
    "$$P(Q(2)) = \\frac{e(Q(2)*theta)}{\\sum_s e(Q(s)*theta)}$$\n",
    "\n",
    "En natuurlijk:\n",
    "\n",
    "$$P(Q(1))+ P(Q(2)) +P(Q(3))+ P(Q(2)) = 1  (100\\%)$$\n",
    "\n",
    "want de robot kiest altijd een van de 4 opties, dus samen moeten dat 100% kans zijn.\n",
    "\n",
    "Implementeer nu de softmax regel in de `q_learn` functie en geef deze de naam `q_learn_softmax`.\n",
    "\n",
    "* Gebruik elke ronde de $P(Q)$ informatie om de robot een kist te laten kiezen.\n",
    "* Zorg ook dat deze elke ronde de waarschijnlijkheid $P(Q)$ van het kiezen van elke kist wordt opgeslagen zodat we hier later weer naar kunnen kijken. \n",
    "\n",
    "Gebruik dit model weer om de gemiddelde score voor 500 episodes voor verschillende waardes van theta (waardes tussen $0.01$ en $1$, op zn minst 5) met elkaar te vergelijken, met wederom 200 rondes per episode en een $\\alpha$ van $0.3$, gebruik makende van de methode die we hier boven ontwikkeld hebben. \n",
    "\n",
    "\n",
    "### Q3.a (10 punten)\n",
    "\n",
    "Wat is ongeveer de optimale waarde voor theta, hoe verhoud dit model zich tot de simpele versie van $\\epsilon$-greedy? Hoe gedraagt het model zicht met een hoge waarde van theta, en hoe met een lage?"
   ]
  },
  {
   "cell_type": "markdown",
   "metadata": {},
   "source": [
    "De optimale waarde voor theta is ongeveer 0.065. Rond de optimale waarde voor theta doet dit model het beter dan $\\epsilon$-greedy, maar voor de rest een stuk slechter. Bij een hoge waarde van theta doet dit model het slechter en bij een lagere waarde beter."
   ]
  },
  {
   "cell_type": "code",
   "execution_count": 19,
   "metadata": {},
   "outputs": [],
   "source": [
    "def softmax(Q, s, a, theta):\n",
    "    total = [np.exp(x*theta) for x in Q[s]]\n",
    "    return np.exp(Q[s, a]*theta)/sum(total)\n",
    "    \n",
    "\n",
    "def calculate_softmax(Q, theta):\n",
    "    P = np.zeros(Q.shape)\n",
    "    for action in range(len(Q[0])):\n",
    "        P[0,action] = softmax(Q, 0, action, theta)\n",
    "    return P\n",
    "\n",
    "def pick_action(P, rng):\n",
    "    \n",
    "    total = 0\n",
    "    \n",
    "    for index in range(len(P[0])):\n",
    "        \n",
    "        total += P[0, index]\n",
    "        \n",
    "        if total > rng:\n",
    "            return index\n",
    "        \n",
    "\n",
    "def q_learn_softmax(alpha, theta, trials = 200):\n",
    "    \n",
    "    # initialize starting values\n",
    "    Q = np.zeros((1, 4))\n",
    "    total_score = 0\n",
    "    means = [20, 30, 50, 70] \n",
    "    SD = 4   \n",
    "    choices = np.zeros((4,trials))\n",
    "    \n",
    "    # loop over the trials\n",
    "    for trial in range(trials):\n",
    "\n",
    "        # get the softmax values\n",
    "        P = calculate_softmax(Q, theta)\n",
    "        \n",
    "        rng = random.random()\n",
    "        action = pick_action(P, rng)\n",
    "\n",
    "        # get the reward for the action\n",
    "        K = np.random.normal(means[action], SD)\n",
    "        \n",
    "        # update Q value\n",
    "        Q[0, action] = update_Q(Q, K, 0, action, alpha)\n",
    "\n",
    "        total_score += K\n",
    "        \n",
    "        choices[action, trial] = 1\n",
    "        \n",
    "    return Q, total_score, choices    "
   ]
  },
  {
   "cell_type": "code",
   "execution_count": 20,
   "metadata": {},
   "outputs": [],
   "source": [
    "def average_score_softmax(theta, alpha = 0.3, episodes = 500):\n",
    "    result = []\n",
    "    for _ in range(episodes):\n",
    "        _, total_score, _ = q_learn_softmax(alpha, theta)\n",
    "        result.append(total_score)\n",
    "    \n",
    "    # get the average score below\n",
    "    return sum(result)/len(result)"
   ]
  },
  {
   "cell_type": "code",
   "execution_count": 21,
   "metadata": {},
   "outputs": [
    {
     "data": {
      "text/plain": [
       "14073.11829566766"
      ]
     },
     "execution_count": 21,
     "metadata": {},
     "output_type": "execute_result"
    }
   ],
   "source": [
    "average_score_softmax(0.1, 0.3, 1)"
   ]
  },
  {
   "cell_type": "code",
   "execution_count": 22,
   "metadata": {},
   "outputs": [
    {
     "name": "stdout",
     "output_type": "stream",
     "text": [
      "The score is 9215.158648794984 for theta = 0.01\n",
      "The score is 12573.302327851874 for theta = 0.065\n",
      "The score is 12135.70443311489 for theta = 0.12\n",
      "The score is 11447.833788067115 for theta = 0.17500000000000002\n",
      "The score is 10773.734186237001 for theta = 0.23\n",
      "The score is 10439.956248172068 for theta = 0.28500000000000003\n",
      "The score is 9269.620073953049 for theta = 0.34\n",
      "The score is 9384.19869396899 for theta = 0.395\n",
      "The score is 8762.894666624436 for theta = 0.45\n",
      "The score is 8671.170620205517 for theta = 0.505\n",
      "The score is 8516.968414436687 for theta = 0.56\n",
      "The score is 8590.433631630734 for theta = 0.615\n",
      "The score is 8594.34397915745 for theta = 0.67\n",
      "The score is 8703.149563996047 for theta = 0.725\n",
      "The score is 8735.116328375025 for theta = 0.78\n",
      "The score is 8490.986768886936 for theta = 0.835\n",
      "The score is 8617.064302431898 for theta = 0.89\n",
      "The score is 8733.520198043152 for theta = 0.9450000000000001\n",
      "The score is 8400.449489517321 for theta = 1.0\n"
     ]
    }
   ],
   "source": [
    "thetas = np.linspace(0.01, 1, 19)\n",
    "\n",
    "for theta in thetas:\n",
    "    a_s = average_score_softmax(theta)\n",
    "    print(\"The score is\", a_s, \"for theta =\", theta)"
   ]
  },
  {
   "cell_type": "markdown",
   "metadata": {},
   "source": [
    "## Model fitting\n",
    "\n",
    "We gaan nu kijken naar de resultaten van een echt experiment. We hebben de data van een proefpersoon die het bovenstaande experiment heeft gespeeld. In de data file kunnen we terugvinden welke van de 4 opties zij gekozen had en hoeveel punten vervolgens elke trial verdient zijn. We gaan kijken met welke parameter waardes  Q-learning met een softmax choice rule het gedrag van de proefpersonen het beste kan voorspellen. De proefpersoon heeft 80 rondes gespeelt. \n",
    "\n",
    "Lees de data in uit *L4_data_1.txt* met behulp van [loadtxt](https://docs.scipy.org/doc/numpy/reference/generated/numpy.loadtxt.html):\n",
    "```python\n",
    "with open(\"L4_data_1.txt\") as f:\n",
    "    data = np.loadtxt(f, dtype=int, delimiter=\"\\t\", skiprows=1)\n",
    "```\n",
    "\n",
    "Pas de `q_learn_softmax` functie aan zodat je deze op de data van de proefpersonen kan fitten. (Zie LC1 voor details over hoe functies gefit moeten worden, en pseudo code onderaan voor meer hulp).\n",
    "\n",
    "Ga er van uit dat de proefpersonen enige ervaring hebben met dit type experiment en verwachten dat ze gemiddeld wel 40 punten per ronde gaan verdienen (alle Q’s starten op 40 ipv 0). \n",
    "\n",
    "We gaan voor het fitten van het model gebruik maken van minimize van scipy.optimize (`from scipy.optimize import minimize`) en we gaan proberen *Log Likelihood* te optimaliseren (mate van fit). \n",
    "\n",
    "Wat we op elke trial willen weten is wat de waarschijnlijkheid is dat het model dezelfde keuze maakte als de proefpersoon. Hoe groter de kans (likelihood) dat het model correct kiest, hoe beter het model \"fit\". \n",
    "\n",
    "In het databestand van de proefpersoon kunnen zien welke van de 4 kisten de proefpersoon koos. Dit kunnen we dan op elke ronde vergelijken met de corresponderende P(Q). In de eerste ronde zijn alle Q values nog gelijk dus zijn alle P(Q)s = .25.\n",
    "\n",
    "Voor de eerste ronde geld daarom automatisch dan waarschijnlijkheid (likelihood) van de keuze van de proefpersoon ook .25 is, maar dat gaat veranderen naarmate er geleerd wordt. \n",
    "\n",
    "In het databestand staat ook voor elke ronde wat de uitkomst van een keuze was, deze moet gebruikt worden om vervolgens de Q-values aan te passen, net als we eerder gedaan hebben in de simulaties.\n",
    "\n",
    "De output van deze functie moet de som van alle *log(P(Q(chosen)))* zijn. Let op vermenigvuldig deze som met -1. Dat doen we omdat minimize de functie probeert te minimaliseren , en we opzoek zijn naar de max LL (double negative). \n",
    "\n",
    "`**pseudo code**:`\n",
    "```python\n",
    "def q_learn_softmax_fit(params):\n",
    "    alpha, theta, init_value = params\n",
    "    nArms = 4\n",
    "    Q = np.array([init_value]*nArms)\n",
    "    LL = 0\n",
    "    \n",
    "    for row in data:\n",
    "        probs <- calculate probability of chosing each option based on theta, Qvalues and softmax\n",
    "        \n",
    "        choice <- read choice from data (each trial is one row in file)\n",
    "        outcome <- read outcomee of choice from data\n",
    "        \n",
    "        LL += np.log(probs[choice])\n",
    "        \n",
    "        Q[choice] <- update Q value\n",
    "    \n",
    "    # Scaled for minimize function\n",
    "    return -1*LL\n",
    "\n",
    "# minimize takes a few arguments (function, array of initial parameter values, minimization methods,\n",
    "# bounds are the bounds on each parameter; use bounds (same, same) to fix parameter to a single value\n",
    "res = minimize(q_learn_softmax_fit, np.array([0.5, 0.5, 40]), method='SLSQP',\n",
    "               bounds=[(0,1), (0,10), (40,40)], options={'disp':True, 'ftol':1e-16})\n",
    "```\n",
    "\n",
    "### Q4.a (10 punten)\n",
    "\n",
    "Welke parameterwaarden fitten de data van de proefpersoon het beste? Probeer eens een hogere start waarde voor Q values (>80) en hoe beïnvloed dit de model fit? \n",
    "minimize geeft ook de uiteindelijke summed LL (negatief) van het best fittende model. Deze score kan je weer omrekenen naar een gemiddelde likelihood (kans dat model juiste trial koos) per trial. Doe dit, een beoordeel de uitkomst."
   ]
  },
  {
   "cell_type": "markdown",
   "metadata": {},
   "source": [
    "De parameterwaarden die uit minimize komen zijn $\\alpha =  0.48925202$, $\\theta = 0.23180105$. Een hogere startwaarde voor de Q values resulteert in $\\alpha = 1$, $\\theta = 1.50527996e^{-02}$, maar de LL is ook meer dan tweemaal zo hoog. De uiteindelijke negatieve summed LL is -56.081857619579395. Dit is een gemiddelde LL van -0.70102322024 per trial. De LL is groter dan -1, dus dit model fit de data best goed."
   ]
  },
  {
   "cell_type": "code",
   "execution_count": 23,
   "metadata": {},
   "outputs": [],
   "source": [
    "with open(\"L4_data_1.txt\") as f:\n",
    "    data = np.loadtxt(f, dtype=int, delimiter=\"\\t\", skiprows=1)"
   ]
  },
  {
   "cell_type": "code",
   "execution_count": 24,
   "metadata": {},
   "outputs": [],
   "source": [
    "def q_learn_softmax_fit(params):\n",
    "    alpha, theta, init_value = params\n",
    "    nArms = 4\n",
    "    Q = np.array([[init_value]*nArms])\n",
    "    LL = 0\n",
    "\n",
    "    for row in data:\n",
    "        \n",
    "        # get the softmax values\n",
    "        P = calculate_softmax(Q, theta)\n",
    "\n",
    "        choice = row[1]-1\n",
    "        outcome = row[2]\n",
    "        \n",
    "        LL += np.log(P[0,choice])\n",
    "\n",
    "        Q[0,choice] = update_Q(Q, outcome, 0, choice, alpha)\n",
    "\n",
    "    # Scaled for minimize function\n",
    "    return -1*LL"
   ]
  },
  {
   "cell_type": "code",
   "execution_count": 25,
   "metadata": {
    "scrolled": true
   },
   "outputs": [
    {
     "name": "stdout",
     "output_type": "stream",
     "text": [
      "Optimization terminated successfully.    (Exit mode 0)\n",
      "            Current function value: 56.081857619579395\n",
      "            Iterations: 12\n",
      "            Function evaluations: 80\n",
      "            Gradient evaluations: 12\n"
     ]
    },
    {
     "data": {
      "text/plain": [
       "     fun: 56.081857619579395\n",
       "     jac: array([ 9.53674316e-07, -4.76837158e-07,  4.02761698e+00])\n",
       " message: 'Optimization terminated successfully.'\n",
       "    nfev: 80\n",
       "     nit: 12\n",
       "    njev: 12\n",
       "  status: 0\n",
       " success: True\n",
       "       x: array([ 0.48925202,  0.23180105, 40.        ])"
      ]
     },
     "execution_count": 25,
     "metadata": {},
     "output_type": "execute_result"
    }
   ],
   "source": [
    "from scipy.optimize import minimize\n",
    "\n",
    "# minimize takes a few arguments (function, array of initial parameter values, minimization methods,\n",
    "# bounds are the bounds on each parameter; use bounds (same, same) to fix parameter to a single value\n",
    "res = minimize(q_learn_softmax_fit, np.array([0.5, 0.5, 40]), method='SLSQP',\n",
    "               bounds=[(0,1), (0,10), (40,40)], options={'disp':True, 'ftol':1e-16})\n",
    "res"
   ]
  },
  {
   "cell_type": "code",
   "execution_count": 26,
   "metadata": {},
   "outputs": [
    {
     "name": "stdout",
     "output_type": "stream",
     "text": [
      "Optimization terminated successfully.    (Exit mode 0)\n",
      "            Current function value: 108.76131257342107\n",
      "            Iterations: 8\n",
      "            Function evaluations: 53\n",
      "            Gradient evaluations: 8\n"
     ]
    },
    {
     "data": {
      "text/plain": [
       "     fun: 108.76131257342107\n",
       "     jac: array([-1.69738369e+01,  3.81469727e-06,  3.02849770e-01])\n",
       " message: 'Optimization terminated successfully.'\n",
       "    nfev: 53\n",
       "     nit: 8\n",
       "    njev: 8\n",
       "  status: 0\n",
       " success: True\n",
       "       x: array([1.00000000e+00, 1.50527996e-02, 8.00000000e+01])"
      ]
     },
     "execution_count": 26,
     "metadata": {},
     "output_type": "execute_result"
    }
   ],
   "source": [
    "# minimize takes a few arguments (function, array of initial parameter values, minimization methods,\n",
    "# bounds are the bounds on each parameter; use bounds (same, same) to fix parameter to a single value\n",
    "res = minimize(q_learn_softmax_fit, np.array([0.5, 0.5, 80]), method='SLSQP',\n",
    "               bounds=[(0,1), (0,10), (80,80)], options={'disp':True, 'ftol':1e-16})\n",
    "res"
   ]
  },
  {
   "cell_type": "markdown",
   "metadata": {},
   "source": [
    "### Q4.b (10 punten)\n",
    "\n",
    "Herschrijf de functie nogmaals en zorg ervoor dat de initialisatie van de Q waarde (de start Q waarden) ook een vrije parameter wordt. Als je dit doet kan je de start waarde vinden die het best bij het gedrag van de proefpersoon past. Rapporteer, en interpreteer deze waarde. En zorgt dit ook voor een betere model fit?"
   ]
  },
  {
   "cell_type": "markdown",
   "metadata": {},
   "source": [
    "De parameterwaarden die nu uit minimize komen zijn $\\alpha = 0.57894821$, $\\theta = 0.25470942$ en $init\\_value = 24.07207659$. Dit betekent dat de verwachting van de proefpersoon in het begin dus op ongeveer 24 punten moet zitten. De functiewaardie (LL) is hier ongeveer 26.01, en bij Q4.a was het 56.08. Dit houdt in dat de gemiddelde LL -0.3251254388 is per trial. Dit is meer dan 2 keer zo goed als het model met $init\\_value = 40$, het model dat het hiervoor het beste deed. Dit geeft een betere fit."
   ]
  },
  {
   "cell_type": "code",
   "execution_count": 27,
   "metadata": {},
   "outputs": [
    {
     "name": "stdout",
     "output_type": "stream",
     "text": [
      "Optimization terminated successfully.    (Exit mode 0)\n",
      "            Current function value: 26.010035104746027\n",
      "            Iterations: 19\n",
      "            Function evaluations: 113\n",
      "            Gradient evaluations: 19\n",
      "     fun: 26.010035104746027\n",
      "     jac: array([1.43051147e-06, 3.33786011e-06, 2.38418579e-07])\n",
      " message: 'Optimization terminated successfully.'\n",
      "    nfev: 113\n",
      "     nit: 19\n",
      "    njev: 19\n",
      "  status: 0\n",
      " success: True\n",
      "       x: array([ 0.57894821,  0.25470942, 24.07207659])\n"
     ]
    }
   ],
   "source": [
    "# minimize takes a few arguments (function, array of initial parameter values, minimization methods,\n",
    "# bounds are the bounds on each parameter; use bounds (same, same) to fix parameter to a single value\n",
    "res = minimize(q_learn_softmax_fit, np.array([0.5, 0.5, 40]), method='SLSQP',\n",
    "               bounds=[(0,1), (0,10), (0,100)], options={'disp':True, 'ftol':1e-16})\n",
    "print(res)"
   ]
  },
  {
   "cell_type": "markdown",
   "metadata": {},
   "source": [
    "### Q4.c (10 punten)\n",
    "\n",
    "Als we de functie een klein beetje herschrijven kunnen we deze gebruiken om in het hoofd van de proefpersoon te kijken. Bijvoorbeeld we willen nu weten welke Q-values zij aan de verschillende bandits toekent. \n",
    "\n",
    "Hiervoor is alleen een kleine verandering nodig, waarbij de functie nu niet meer de LogLikelihood als output heeft maar de lijst met Q values. Pas de functie `q_learn_softmax_fit` aan zodat deze de Q-values returnt en noem de nieuwe functie `q_learn_fitted_model`. Zorg hierbij dat de `params` lijst van argumenten ook hetzelfde blijft als bij de `q_learn_softmax_fit`.\n",
    "\n",
    "Nu hoef je ook niet meer de functie fitten of minimalizeren maar alleen aan te roepen, gebruik makende van de beste gevonden `params` van de vorige stap.\n",
    "\n",
    "`q_learn_fitted_model(res.x)`\n",
    "\n",
    "Rapporteer de Q values van deze proefpersoon. In werkelijkheid waren de gemiddelde waardes van den bandits (50, 30, 20, 80). Hoe wijkt de proefpersoon hier van af en hoe is dat te verklaren (hint: kijk naar keuze gedrag, dus de selectie van bandits, in de data file)?\n"
   ]
  },
  {
   "cell_type": "markdown",
   "metadata": {},
   "source": [
    "De proefpersoon zit dicht in de buurt van de gemiddelde waardes van de bandits. De proefpersoon heeft een afwijking van maximaal 5 punten, en de afwijking is het grootst bij de 2e en 3e schatkist. Dit kan komen doordat de proefpersoon bijna alleen maar voor de 1e en de 4e schatkist heeft gekozen. Hierdoor heeft hij weinig kunnen leren over schatkist 2 en 3. "
   ]
  },
  {
   "cell_type": "code",
   "execution_count": 28,
   "metadata": {},
   "outputs": [],
   "source": [
    "def q_learn_fitted_model(params):\n",
    "    alpha, theta, init_value = params\n",
    "    nArms = 4\n",
    "    Q = np.array([[init_value]*nArms])\n",
    "    \n",
    "    for row in data:\n",
    "        \n",
    "        # get the softmax values\n",
    "        P = calculate_softmax(Q, theta)\n",
    "\n",
    "        choice = row[1]-1\n",
    "        outcome = row[2]\n",
    "\n",
    "        Q[0,choice] = update_Q(Q, outcome, 0, choice, alpha)\n",
    "\n",
    "    # Scaled for minimize function\n",
    "    return Q"
   ]
  },
  {
   "cell_type": "code",
   "execution_count": 29,
   "metadata": {},
   "outputs": [
    {
     "data": {
      "text/plain": [
       "array([[49.49995203, 25.76719261, 22.29350334, 78.6222417 ]])"
      ]
     },
     "execution_count": 29,
     "metadata": {},
     "output_type": "execute_result"
    }
   ],
   "source": [
    "q_learn_fitted_model(res.x)"
   ]
  }
 ],
 "metadata": {
  "kernelspec": {
   "display_name": "Python 3",
   "language": "python",
   "name": "python3"
  },
  "language_info": {
   "codemirror_mode": {
    "name": "ipython",
    "version": 3
   },
   "file_extension": ".py",
   "mimetype": "text/x-python",
   "name": "python",
   "nbconvert_exporter": "python",
   "pygments_lexer": "ipython3",
   "version": "3.5.2"
  }
 },
 "nbformat": 4,
 "nbformat_minor": 2
}
