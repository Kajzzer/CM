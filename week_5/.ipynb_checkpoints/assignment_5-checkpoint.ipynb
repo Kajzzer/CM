{
 "cells": [
  {
   "cell_type": "markdown",
   "metadata": {},
   "source": [
    "# Kaj Meijer, 10509534\n",
    "\n",
    "# Lotte Philippus, 11291168"
   ]
  },
  {
   "cell_type": "code",
   "execution_count": null,
   "metadata": {},
   "outputs": [],
   "source": [
    "import math\n",
    "import numpy as np\n",
    "from scipy import optimize\n",
    "\n",
    "%matplotlib inline\n",
    "import matplotlib.pyplot as plt"
   ]
  },
  {
   "cell_type": "markdown",
   "metadata": {},
   "source": [
    "# De loterij\n",
    "\n",
    "In de bijlage `Risk_Q.pdf` vind je een lijst met keuzes tussen twee loterijen, zoals in het figuur hieronder. Voor elke loterij zijn er telkens twee mogelijke uitkomsten, aan jou de vraag welke loterij je zou kiezen als je er een moet uitkiezen. Kijk goed naar de uitkomsten en kansen en vink aan welke loterij je kiest.\n",
    "\n",
    "![](loterij.png)\n",
    "\n",
    "\n",
    "Als je alle keuzes gemaakt hebt, maak dan een tab delimited .txt bestand met de volgende structuur:\n",
    "\n",
    "    p1,o1,p2,o2: p's and o's of gamble 1  (p is probability, o is outcome)\n",
    "    p3,o3,p4,o4: p's and o's of gamble 2 \n",
    "    decision: choice (1 = gamble 1, 2 = gamble 2)\n",
    "\n",
    "![](example_data.png)\n",
    "\n",
    "## Q1 (5 pts)\n",
    "\n",
    "In het voorbeeld zie je de header en daaronder een regel met de loterij en keuze van figuur 1. Maak een zelfde soort txt file met op elke rij de kansen, uitkomsten en de keuze die je voor die loterij hebt gemaakt. Deze file gebruiken we later om een simpel model te fitten. Sla de file op als `studentnummer_data.txt` (als er in groep van twee gewerkt wordt dan dus twee files)."
   ]
  },
  {
   "cell_type": "markdown",
   "metadata": {},
   "source": [
    "Zie de bestanden 10509534_data.txt en 11291168_data.txt."
   ]
  },
  {
   "cell_type": "markdown",
   "metadata": {},
   "source": [
    "# Prospect Theory\n",
    "\n",
    "Prospect theory, ook wel cumulative prospect therory (CPT), is een theorie die beschrijft hoe mensen uitkomsten en waarschijnlijkheden wegen en tot een beslissing komen. Het gebruikt hiervoor een combinatie van vier verschillende functies:\n",
    "\n",
    "1. Een functie die objectieve uitkomsten transformeert naar subjectieve waarde (V1)\n",
    "2. Een functie die waarschijnlijkheid transformeert naar subjectieve waarschijnlijkheid (W1)\n",
    "3. Een functie die subjectieve waarden en waarschijnlijkheden van een optie integreert tot een subjectieve verwachte waarde (EV)\n",
    "4. Een beslis regel die uitrekent met welke waarschijnlijkheid een van twee opties word gekozen (Softmax)\n",
    "\n",
    "## Q2 (15 pts)\n",
    "\n",
    "Schrijf voor elke van deze 4 functies een functie in Python. Geef bij elke functie aan welke vrije variabelen deze heeft en wat die betekenen.\n"
   ]
  },
  {
   "cell_type": "code",
   "execution_count": null,
   "metadata": {},
   "outputs": [],
   "source": [
    "def subjective_value(o, a):\n",
    "    return o**a\n",
    "\n",
    "def subjective_probability(p, delta, gamma):\n",
    "    return (delta * p**gamma)/(delta * p**gamma + (1-p)**gamma)\n",
    "\n",
    "# needs to have a sum in it somewhere\n",
    "def subjective_expected_probability(p, delta, gamma, o, a):\n",
    "        return subjective_probability(p, delta, gamma) * subjective_value(o, a)\n",
    "    \n",
    "# needs to be refactored to use all probabilities and rewards that are given in the data.txt files\n",
    "def softmax(p1, o1, p2, o2, delta, gamma, a):\n",
    "    \n",
    "    top = math.exp(subjective_expected_probability(p, delta, gamma, a))\n",
    "    bottom = top + math.exp(subjective_expected_probability(p, delta, gamma, a))\n",
    "    \n",
    "    return top/bottom\n",
    "        "
   ]
  },
  {
   "cell_type": "markdown",
   "metadata": {},
   "source": [
    "## Q3 (10 pts)\n",
    "\n",
    "Plot de waarde functie *(1)* voor objectieve waardes tussen 0 en 1000, gebruik makende van verschillende waarden van $\\alpha$, en label deze lijnen voor:\n",
    "\n",
    "$$\\alpha \\in \\{0.5, 0.9, 1.3, 1.7\\}$$\n",
    "\n",
    "*Hint:* Gebruik [vectorize](https://docs.scipy.org/doc/numpy/reference/generated/numpy.vectorize.html) om een bestaande functie op een gehele [ndarray](https://docs.scipy.org/doc/numpy/reference/generated/numpy.ndarray.html) tegelijk te kunnen toepassen, en zo alle subjectieve waardes in 1 keer uit te rekenen.\n",
    "\n",
    "De meeste mensen zijn risicomijdend, waar ligt dus voor de meeste mensen de waarde van $\\alpha$? "
   ]
  },
  {
   "cell_type": "markdown",
   "metadata": {},
   "source": [
    "## Q4 (5 pts)\n",
    "\n",
    "Plot de waarde functie *(1)* voor objectieve waardes tussen 0 en -1000, gebruik makende van verschillende waarden van $\\beta$ en $\\lambda$, en label deze lijnen voor:\n",
    "\n",
    "$$\\beta \\in \\{0.5, 0.9\\}$$\n",
    "$$\\lambda \\in \\{0.5, 1.5\\}$$\n",
    "\n",
    "De meeste mensen vinden verliezen van 10 euro relatief erger dan dat ze blij zijn met het winnen van 10 euro, waar ligt dus voor de meeste mensen de waarde van $\\lambda$?  "
   ]
  },
  {
   "cell_type": "markdown",
   "metadata": {},
   "source": [
    "## Q5 (10 pts)\n",
    "\n",
    "Plot de waarschijnlijkheids functie *(2)* voor waarschijnlijkheden tussen $0.1$ en $0.9$, gebruik makende van verschillende waarden van $\\gamma$, en label deze lijnen.\n",
    "\n",
    "Bij welke waarde vind je het gebruikelijke patroon dat mensen kleine waarschijnlijkheden meer waarde toekennen en grote waarschijnlijkheden juist minder? (zie grafiek in college slides, plot ook een identity line $(x=y)$)."
   ]
  },
  {
   "cell_type": "markdown",
   "metadata": {},
   "source": [
    "## Q6 (10 pts)\n",
    "\n",
    "Laten we nu kijken hoe verschillende parameter waarden kunnen leiden tot verschillende keuzes. Laten we er voor gemak even van uit gaan dat de proefpersoon altijd simpelweg de optie kiest met de hoogste verwachtte uitkomst (geen softmax). Beschouw de volgende twee opties:\n",
    "\n",
    "    A: 1% kans op 1000 euro, en anders niets \n",
    "    B: 50% kans op 20 euro, en anders niets\n",
    "\n",
    "Vergelijk de uitkomsten voor de 4 mogelijke combinaties met $\\alpha \\in \\{0.3, 1.5\\}$ en $\\gamma \\in \\{0.5, 1.0\\}$ en vertel welke loterij verkozen wordt. "
   ]
  },
  {
   "cell_type": "markdown",
   "metadata": {},
   "source": [
    "# Model fitting\n",
    "\n",
    "We gaan nu kijken naar de resultaten van een echt experiment. We hebben de data van een aantal proefpersoon die een heel aantal gambles gedaan heeft. In de data file kunnen we terugvinden welke van 2 opties zij gekozen hebben. We gaan kijken hoe goed CPT het gedrag van de proefpersonen kan voorspellen, en wat voor een parameter waardes dit oplevert. De data file die we zullen gebruiken is `data_LC5.txt`:\n",
    "\n",
    "    Data Coding:\n",
    "    Subject: is subject nr.\n",
    "    p1,o1,p2,o2: p's and o's of gamble 1  (p is probability, o is outcome)\n",
    "    p3,o3,p4,o4: p's and o's of gamble 2 \n",
    "    decision: choice (1 = gamble 1, 2 = gamble 2)\n",
    "   \n",
    "Elke gamble wordt beschrijven, net als hierboven, door twee probabilities en twee outcomes. \n",
    "Schrijf een `CPT_fit` functie aan zodat je deze op de data van de proefpersonen kan fitten. \n",
    "We gaan voor het fitten van het model gebruik maken van [optimize.minimize](https://docs.scipy.org/doc/scipy/reference/generated/scipy.optimize.minimize.html) en we gaan proberen Log Likelihood te maximaliseren.\n",
    "\n",
    "In het databestand van de proefpersoon kunnen we zien welke van de 2 loterijen de proefpersoon koos. Wat we op elke trial willen weten is wat de waarschijnlijkheid is dat het model dezelfde keuze maakt als de proefpersoon. Hoe hoe groter die kans is hoe beter het model fit.\n",
    "\n",
    "## Q7  (35 pts)\n",
    "\n",
    "Schrijf de functie `CPT_fit`.\n",
    "    \n",
    "* Gegeven een set parameters $\\alpha$, $\\beta$, $\\lambda$, $\\gamma$ en $\\theta$, bereken voor elk van de loterijen in het bestand:\n",
    "    * De subjectieve waarde van de uitkomsten\n",
    "    * De subjectieve waarschijnlijkheden\n",
    "    * De subjectieve verwachte waarde voor een loterij\n",
    "    * De (softmax) waarschijnlijkheid dat de eerste of de tweede loterij wordt gekozen\n",
    "    * De waarschijnlijkheid die correspondeerd met de daadwerkelijk gemaakte keuze\n",
    "* De som van de logaritme van deze waarschijnlijkheden geeft de Log Likelihood voor deze parameters.\n",
    "* Vermenigvuldig dit resultaat nog met $-1$, gegegeven dat we dit willen maximaliseren ipv minimaliseren.\n",
    "\n",
    "Gebruik als startwaarden $\\alpha=0.5$, $\\beta=0.5$, $\\lambda=0.5$, $\\gamma=0.5$ en $\\theta=0.05$, en gebruik [Nelder-Mead](https://docs.scipy.org/doc/scipy/reference/optimize.minimize-neldermead.html#optimize-minimize-neldermead) als de methode voor de minimalisatie.\n",
    "\n",
    "Welke parameterwaarden fitten de data van de proefpersonen het beste? \n",
    "\n",
    "Als we deze parameters voor waar aannemen, hoe kijken deze proefpersonen tegen winsten en verliezen aan? En hoe weegt deze persoon waarschijnlijkheden?\n"
   ]
  },
  {
   "cell_type": "code",
   "execution_count": null,
   "metadata": {
    "scrolled": true
   },
   "outputs": [],
   "source": [
    "def CPT_fit(params, data):\n",
    "    alpha, beta, labda, gamma, theta = params\n",
    "    \n",
    "    # TODO\n"
   ]
  },
  {
   "cell_type": "markdown",
   "metadata": {},
   "source": [
    "## Q8 (10 pts)\n",
    "\n",
    "Fit nu dit model op je eigen data en rapporteer jouw parameter waarden, beschrijf net als bij Q7 wat voor een persoon jij bent. "
   ]
  }
 ],
 "metadata": {
  "kernelspec": {
   "display_name": "Python 3",
   "language": "python",
   "name": "python3"
  },
  "language_info": {
   "codemirror_mode": {
    "name": "ipython",
    "version": 3
   },
   "file_extension": ".py",
   "mimetype": "text/x-python",
   "name": "python",
   "nbconvert_exporter": "python",
   "pygments_lexer": "ipython3",
   "version": "3.6.7"
  }
 },
 "nbformat": 4,
 "nbformat_minor": 2
}
