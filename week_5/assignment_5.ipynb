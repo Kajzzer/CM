{
 "cells": [
  {
   "cell_type": "markdown",
   "metadata": {},
   "source": [
    "# Kaj Meijer, 10509534\n",
    "\n",
    "# Lotte Philippus, 11291168"
   ]
  },
  {
   "cell_type": "code",
   "execution_count": 230,
   "metadata": {},
   "outputs": [],
   "source": [
    "import math\n",
    "import numpy as np\n",
    "from scipy import optimize\n",
    "\n",
    "%matplotlib inline\n",
    "import matplotlib.pyplot as plt"
   ]
  },
  {
   "cell_type": "markdown",
   "metadata": {},
   "source": [
    "# De loterij\n",
    "\n",
    "In de bijlage `Risk_Q.pdf` vind je een lijst met keuzes tussen twee loterijen, zoals in het figuur hieronder. Voor elke loterij zijn er telkens twee mogelijke uitkomsten, aan jou de vraag welke loterij je zou kiezen als je er een moet uitkiezen. Kijk goed naar de uitkomsten en kansen en vink aan welke loterij je kiest.\n",
    "\n",
    "![](loterij.png)\n",
    "\n",
    "\n",
    "Als je alle keuzes gemaakt hebt, maak dan een tab delimited .txt bestand met de volgende structuur:\n",
    "\n",
    "    p1,o1,p2,o2: p's and o's of gamble 1  (p is probability, o is outcome)\n",
    "    p3,o3,p4,o4: p's and o's of gamble 2 \n",
    "    decision: choice (1 = gamble 1, 2 = gamble 2)\n",
    "\n",
    "![](example_data.png)\n",
    "\n",
    "## Q1 (5 pts)\n",
    "\n",
    "In het voorbeeld zie je de header en daaronder een regel met de loterij en keuze van figuur 1. Maak een zelfde soort txt file met op elke rij de kansen, uitkomsten en de keuze die je voor die loterij hebt gemaakt. Deze file gebruiken we later om een simpel model te fitten. Sla de file op als `studentnummer_data.txt` (als er in groep van twee gewerkt wordt dan dus twee files)."
   ]
  },
  {
   "cell_type": "markdown",
   "metadata": {},
   "source": [
    "Zie de bestanden 10509534_data.txt en 11291168_data.txt."
   ]
  },
  {
   "cell_type": "markdown",
   "metadata": {},
   "source": [
    "# Prospect Theory\n",
    "\n",
    "Prospect theory, ook wel cumulative prospect therory (CPT), is een theorie die beschrijft hoe mensen uitkomsten en waarschijnlijkheden wegen en tot een beslissing komen. Het gebruikt hiervoor een combinatie van vier verschillende functies:\n",
    "\n",
    "1. Een functie die objectieve uitkomsten transformeert naar subjectieve waarde (V1)\n",
    "2. Een functie die waarschijnlijkheid transformeert naar subjectieve waarschijnlijkheid (W1)\n",
    "3. Een functie die subjectieve waarden en waarschijnlijkheden van een optie integreert tot een subjectieve verwachte waarde (EV)\n",
    "4. Een beslis regel die uitrekent met welke waarschijnlijkheid een van twee opties word gekozen (Softmax)\n",
    "\n",
    "## Q2 (15 pts)\n",
    "\n",
    "Schrijf voor elke van deze 4 functies een functie in Python. Geef bij elke functie aan welke vrije variabelen deze heeft en wat die betekenen.\n"
   ]
  },
  {
   "cell_type": "markdown",
   "metadata": {},
   "source": [
    "De vrije variabelen zijn: \n",
    "<br>\n",
    "$\\alpha$, die aangeeft hoe belangrijk winst is.\n",
    "<br>\n",
    "$\\beta$, die aangeeft hoe erg verlies is.\n",
    "<br>\n",
    "$\\gamma$, die aangeeft hoe belangrijk een kans is. Hoe hoger $\\gamma$, hoe meer de subjectieve waarschijnlijkheden gaan lijken op de werkelijke waarschijnlijkheden.\n",
    "<br>\n",
    "$\\lambda$, die aangeeft in welke mate mensen liever verlies vermijden dan dat ze iets met dezelfde waarde winnen\n",
    "<br>\n",
    "$\\theta$, die aangeeft hoe belangrijk een ‘reward’ is, dus hoe belangrijk iemand een hoge beloning vindt. "
   ]
  },
  {
   "cell_type": "code",
   "execution_count": 242,
   "metadata": {},
   "outputs": [],
   "source": [
    "def v(o, alpha, beta, labda):\n",
    "    if o >= 0:\n",
    "        return o**alpha\n",
    "    else:\n",
    "        return -labda*(math.pow(-o, beta))\n",
    "\n",
    "def w(p, gamma):\n",
    "    return (p**gamma)/((p**gamma + (1-p)**gamma)**(1/gamma))\n",
    "\n",
    "def ev(p1, o1, p2, o2, gamma, alpha, beta, labda):\n",
    "    return w(p1, gamma) * v(o1, alpha, beta, labda) + w(p2, gamma) * v(o2, alpha, beta, labda) \n",
    "    \n",
    "def softmax(p1, o1, p2, o2, p3, o3, p4, o4, gamma, alpha, beta, labda, theta):\n",
    "    ev1 = ev(p1, o1, p2, o2, gamma, alpha, beta, labda)\n",
    "    ev2 = ev(p3, o3, p4, o4, gamma, alpha, beta, labda)\n",
    "    \n",
    "#     top = math.exp(theta * ev1)\n",
    "#     bottom = top + math.exp(theta * ev2)\n",
    "\n",
    "    top = 1\n",
    "    bottom = top + math.exp(-theta * (ev1 - ev2))\n",
    "    \n",
    "    # first softmax\n",
    "    a = top/bottom\n",
    "    \n",
    "#     top = math.exp(ev2)\n",
    "#     bottom = top + math.exp(ev1)\n",
    "    \n",
    "    top = 1\n",
    "    bottom = top + math.exp(-theta * (ev2 - ev1))\n",
    "    \n",
    "    # second softmax\n",
    "    b = top/bottom\n",
    "    \n",
    "    # make the decision\n",
    "    if a > b:\n",
    "        return a, 1\n",
    "    else:\n",
    "        return b, 2"
   ]
  },
  {
   "cell_type": "markdown",
   "metadata": {},
   "source": [
    "## Q3 (10 pts)\n",
    "\n",
    "Plot de waarde functie *(1)* voor objectieve waardes tussen 0 en 1000, gebruik makende van verschillende waarden van $\\alpha$, en label deze lijnen voor:\n",
    "\n",
    "$$\\alpha \\in \\{0.5, 0.9, 1.3, 1.7\\}$$\n",
    "\n",
    "*Hint:* Gebruik [vectorize](https://docs.scipy.org/doc/numpy/reference/generated/numpy.vectorize.html) om een bestaande functie op een gehele [ndarray](https://docs.scipy.org/doc/numpy/reference/generated/numpy.ndarray.html) tegelijk te kunnen toepassen, en zo alle subjectieve waardes in 1 keer uit te rekenen.\n",
    "\n",
    "De meeste mensen zijn risicomijdend, waar ligt dus voor de meeste mensen de waarde van $\\alpha$? "
   ]
  },
  {
   "cell_type": "markdown",
   "metadata": {},
   "source": [
    "Voor de meeste mensen ligt de waarde van $\\alpha$ rond de 1. Het kan namelijk een risico zijn wanneer iets een hoge subjectieve waarde heeft, maar een kleine objectieve waarde, of wanneer iets een kleine subjectieve waarde heeft, maar een grote objectieve waarde. Dan kan je geen goed beeld vormen van wat iets echt waard is."
   ]
  },
  {
   "cell_type": "code",
   "execution_count": 232,
   "metadata": {},
   "outputs": [
    {
     "data": {
      "image/png": "[encoded data removed]",
      "text/plain": [
       "<Figure size 432x288 with 1 Axes>"
      ]
     },
     "metadata": {
      "needs_background": "light"
     },
     "output_type": "display_data"
    }
   ],
   "source": [
    "os = np.linspace(0,1000, 1000)\n",
    "ass = np.array([0.5, 0.9, 1.3, 1.7])\n",
    "vec_v = np.vectorize(v)\n",
    "\n",
    "for a in ass:\n",
    "    plt.plot(os, vec_v(os, a, 1, 1), label=a)\n",
    "plt.legend()\n",
    "plt.show()"
   ]
  },
  {
   "cell_type": "markdown",
   "metadata": {},
   "source": [
    "## Q4 (5 pts)\n",
    "\n",
    "Plot de waarde functie *(1)* voor objectieve waardes tussen 0 en -1000, gebruik makende van verschillende waarden van $\\beta$ en $\\lambda$, en label deze lijnen voor:\n",
    "\n",
    "$$\\beta \\in \\{0.5, 0.9\\}$$\n",
    "$$\\lambda \\in \\{0.5, 1.5\\}$$\n",
    "\n",
    "De meeste mensen vinden verliezen van 10 euro relatief erger dan dat ze blij zijn met het winnen van 10 euro, waar ligt dus voor de meeste mensen de waarde van $\\lambda$?  "
   ]
  },
  {
   "cell_type": "markdown",
   "metadata": {},
   "source": [
    "Voor de meeste mensen zal de waarde van $\\lambda$ dan meer richting de 1.5 liggen dan 0.5, aangezien mensen liever verlies vermijden dan dat ze iets winnen."
   ]
  },
  {
   "cell_type": "code",
   "execution_count": 233,
   "metadata": {},
   "outputs": [
    {
     "data": {
      "image/png": "[encoded data removed]",
      "text/plain": [
       "<Figure size 432x288 with 1 Axes>"
      ]
     },
     "metadata": {
      "needs_background": "light"
     },
     "output_type": "display_data"
    }
   ],
   "source": [
    "os = np.linspace(0,-1000, 1000)\n",
    "bs = np.array([0.5, 0.9])\n",
    "lambdas = np.array([0.5, 1.5])\n",
    "vec_v2 = np.vectorize(v)\n",
    "\n",
    "for b in bs:\n",
    "    for labda in lambdas:\n",
    "        plt.plot(os, vec_v2(os, 1, b, labda), label=str(b)+\", \"+str(labda))\n",
    "plt.legend()\n",
    "plt.show()"
   ]
  },
  {
   "cell_type": "markdown",
   "metadata": {},
   "source": [
    "## Q5 (10 pts)\n",
    "\n",
    "Plot de waarschijnlijkheids functie *(2)* voor waarschijnlijkheden tussen $0.1$ en $0.9$, gebruik makende van verschillende waarden van $\\gamma$, en label deze lijnen.\n",
    "\n",
    "Bij welke waarde vind je het gebruikelijke patroon dat mensen kleine waarschijnlijkheden meer waarde toekennen en grote waarschijnlijkheden juist minder? (zie grafiek in college slides, plot ook een identity line $(x=y)$)."
   ]
  },
  {
   "cell_type": "markdown",
   "metadata": {},
   "source": [
    "Bij een $\\gamma$ van 0.5 lijkt de plot op de grafiek uit de college slides, en kan je dus het patroon terugzien."
   ]
  },
  {
   "cell_type": "code",
   "execution_count": 234,
   "metadata": {},
   "outputs": [
    {
     "data": {
      "image/png": "[encoded data removed]",
      "text/plain": [
       "<Figure size 432x288 with 1 Axes>"
      ]
     },
     "metadata": {
      "needs_background": "light"
     },
     "output_type": "display_data"
    }
   ],
   "source": [
    "os = np.linspace(0.1,0.9, 8)\n",
    "gammas = np.linspace(0.5, 1.5, 5)\n",
    "vec_w = np.vectorize(w)\n",
    "\n",
    "for gamma in gammas:\n",
    "    if gamma == 1:\n",
    "        plt.plot(os, vec_w(os, gamma), label=str(gamma)+\", the identity line\")\n",
    "    else:\n",
    "        plt.plot(os, vec_w(os, gamma), label=gamma)\n",
    "plt.legend()\n",
    "plt.show()"
   ]
  },
  {
   "cell_type": "markdown",
   "metadata": {},
   "source": [
    "## Q6 (10 pts)\n",
    "\n",
    "Laten we nu kijken hoe verschillende parameter waarden kunnen leiden tot verschillende keuzes. Laten we er voor gemak even van uit gaan dat de proefpersoon altijd simpelweg de optie kiest met de hoogste verwachtte uitkomst (geen softmax). Beschouw de volgende twee opties:\n",
    "\n",
    "    A: 1% kans op 1000 euro, en anders niets \n",
    "    B: 50% kans op 20 euro, en anders niets\n",
    "\n",
    "Vergelijk de uitkomsten voor de 4 mogelijke combinaties met $\\alpha \\in \\{0.3, 1.5\\}$ en $\\gamma \\in \\{0.5, 1.0\\}$ en vertel welke loterij verkozen wordt. "
   ]
  },
  {
   "cell_type": "code",
   "execution_count": 235,
   "metadata": {},
   "outputs": [
    {
     "name": "stdout",
     "output_type": "stream",
     "text": [
      "Opties voor alpha = 0.3 en gamma = 0.5\n",
      "A: 0.5525396572920163\n",
      "B: 0.43424418305492163\n",
      "Optie B wordt gekozen\n",
      "\n",
      "Opties voor alpha = 0.3 en gamma = 1.0\n",
      "A: 0.07943282347242814\n",
      "B: 1.2282280261157903\n",
      "Optie B wordt gekozen\n",
      "\n",
      "Opties voor alpha = 1.5 en gamma = 0.5\n",
      "A: 2199.6999958312367\n",
      "B: 15.811388300841896\n",
      "Optie A wordt gekozen\n",
      "\n",
      "Opties voor alpha = 1.5 en gamma = 1.0\n",
      "A: 316.2277660168379\n",
      "B: 44.721359549995796\n",
      "Optie A wordt gekozen\n"
     ]
    }
   ],
   "source": [
    "# Bereken subjectieve verwachte waardes\n",
    "print(\"Opties voor alpha = 0.3 en gamma = 0.5\")\n",
    "print(\"A:\", ev(0.01, 1000, 0.99, 0, 0.5, 0.3, 1, 1))\n",
    "print(\"B:\", ev(0.5, 20, 0.5, 0, 0.5, 0.3, 1, 1))\n",
    "print(\"Optie B wordt gekozen\")\n",
    "\n",
    "print(\"\\nOpties voor alpha = 0.3 en gamma = 1.0\")\n",
    "print(\"A:\", ev(0.01, 1000, 0.99, 0, 1, 0.3, 1, 1))\n",
    "print(\"B:\", ev(0.5, 20, 0.5, 0, 1, 0.3, 1, 1))\n",
    "print(\"Optie B wordt gekozen\")\n",
    "\n",
    "print(\"\\nOpties voor alpha = 1.5 en gamma = 0.5\")\n",
    "print(\"A:\", ev(0.01, 1000, 0.99, 0, 0.5, 1.5, 1, 1))\n",
    "print(\"B:\", ev(0.5, 20, 0.5, 0, 0.5, 1.5, 1, 1))\n",
    "print(\"Optie A wordt gekozen\")\n",
    "\n",
    "print(\"\\nOpties voor alpha = 1.5 en gamma = 1.0\")\n",
    "print(\"A:\", ev(0.01, 1000, 0.99, 0, 1, 1.5, 1, 1))\n",
    "print(\"B:\", ev(0.5, 20, 0.5, 0, 1, 1.5, 1, 1))\n",
    "print(\"Optie A wordt gekozen\")"
   ]
  },
  {
   "cell_type": "markdown",
   "metadata": {},
   "source": [
    "# Model fitting\n",
    "\n",
    "We gaan nu kijken naar de resultaten van een echt experiment. We hebben de data van een aantal proefpersoon die een heel aantal gambles gedaan heeft. In de data file kunnen we terugvinden welke van 2 opties zij gekozen hebben. We gaan kijken hoe goed CPT het gedrag van de proefpersonen kan voorspellen, en wat voor een parameter waardes dit oplevert. De data file die we zullen gebruiken is `data_LC5.txt`:\n",
    "\n",
    "    Data Coding:\n",
    "    Subject: is subject nr.\n",
    "    p1,o1,p2,o2: p's and o's of gamble 1  (p is probability, o is outcome)\n",
    "    p3,o3,p4,o4: p's and o's of gamble 2 \n",
    "    decision: choice (1 = gamble 1, 2 = gamble 2)\n",
    "   \n",
    "Elke gamble wordt beschrijven, net als hierboven, door twee probabilities en twee outcomes. \n",
    "Schrijf een `CPT_fit` functie aan zodat je deze op de data van de proefpersonen kan fitten. \n",
    "We gaan voor het fitten van het model gebruik maken van [optimize.minimize](https://docs.scipy.org/doc/scipy/reference/generated/scipy.optimize.minimize.html) en we gaan proberen Log Likelihood te maximaliseren.\n",
    "\n",
    "In het databestand van de proefpersoon kunnen we zien welke van de 2 loterijen de proefpersoon koos. Wat we op elke trial willen weten is wat de waarschijnlijkheid is dat het model dezelfde keuze maakt als de proefpersoon. Hoe hoe groter die kans is hoe beter het model fit.\n",
    "\n",
    "## Q7  (35 pts)\n",
    "\n",
    "Schrijf de functie `CPT_fit`.\n",
    "    \n",
    "* Gegeven een set parameters $\\alpha$, $\\beta$, $\\lambda$, $\\gamma$ en $\\theta$, bereken voor elk van de loterijen in het bestand:\n",
    "    * De subjectieve waarde van de uitkomsten\n",
    "    * De subjectieve waarschijnlijkheden\n",
    "    * De subjectieve verwachte waarde voor een loterij\n",
    "    * De (softmax) waarschijnlijkheid dat de eerste of de tweede loterij wordt gekozen\n",
    "    * De waarschijnlijkheid die correspondeerd met de daadwerkelijk gemaakte keuze\n",
    "* De som van de logaritme van deze waarschijnlijkheden geeft de Log Likelihood voor deze parameters.\n",
    "* Vermenigvuldig dit resultaat nog met $-1$, gegegeven dat we dit willen maximaliseren ipv minimaliseren.\n",
    "\n",
    "Gebruik als startwaarden $\\alpha=0.5$, $\\beta=0.5$, $\\lambda=0.5$, $\\gamma=0.5$ en $\\theta=0.05$, en gebruik [Nelder-Mead](https://docs.scipy.org/doc/scipy/reference/optimize.minimize-neldermead.html#optimize-minimize-neldermead) als de methode voor de minimalisatie.\n",
    "\n",
    "Welke parameterwaarden fitten de data van de proefpersonen het beste? \n",
    "\n",
    "Als we deze parameters voor waar aannemen, hoe kijken deze proefpersonen tegen winsten en verliezen aan? En hoe weegt deze persoon waarschijnlijkheden?\n"
   ]
  },
  {
   "cell_type": "markdown",
   "metadata": {},
   "source": [
    "Proefpersoon 1: Deze persoon vindt winst belangrijker van verlies vermijden, want $\\lambda$ is vrij laag.\n",
    "<br>\n",
    "\n",
    "Proefpersoon 2: Deze persoon vindt winst belangrijker van verlies vermijden, want $\\lambda$ is vrij laag. \n",
    "<br>\n",
    "\n",
    "Proefpersoon 3: Deze persoon vindt verlies vermijden belangrijker dan iets winnen, aangezien $\\lambda$ heel hoog is. \n",
    "<br>\n",
    "\n",
    "Proefpersoon 4: Deze persoon vindt verlies vermijden belangrijker dan iets winnen, aangezien $\\lambda$ redelijk hoog is. \n",
    "<br>\n",
    "\n",
    "Proefpersoon 5: Deze persoon vindt verlies vermijden belangrijker dan iets winnen, aangezien $\\lambda$ redelijk hoog is. \n",
    "<br>"
   ]
  },
  {
   "cell_type": "code",
   "execution_count": 236,
   "metadata": {},
   "outputs": [],
   "source": [
    "def split_data(data):\n",
    "    sub1 = []\n",
    "    sub2 = []\n",
    "    sub3 = []\n",
    "    sub4 = []\n",
    "    sub5 = []\n",
    "    \n",
    "    for line in data:\n",
    "        if line[0] == 1:\n",
    "            sub1.append(line)\n",
    "        if line[0] == 2:\n",
    "            sub2.append(line)\n",
    "        if line[0] == 3:\n",
    "            sub3.append(line)\n",
    "        if line[0] == 4:\n",
    "            sub4.append(line)\n",
    "        if line[0] == 5:\n",
    "            sub5.append(line)\n",
    "    return sub1, sub2, sub3, sub4, sub5"
   ]
  },
  {
   "cell_type": "code",
   "execution_count": 237,
   "metadata": {
    "scrolled": true
   },
   "outputs": [],
   "source": [
    "def CPT_fit(params, data):\n",
    "    alpha, beta, labda, gamma, theta = params\n",
    "    LL = 0\n",
    "    \n",
    "    for line in data:\n",
    "        prob, choice = softmax(line[3], line[4], line[5], line[6], line[7], line[8], line[9], line[10], gamma, alpha, beta, labda, theta)\n",
    "        actual_choice = line[12]\n",
    "        if actual_choice == choice:\n",
    "            actual_prob = prob\n",
    "        else:\n",
    "            actual_prob = 1-prob\n",
    "        \n",
    "        LL += np.log(actual_prob)\n",
    "        \n",
    "    return -1*LL"
   ]
  },
  {
   "cell_type": "code",
   "execution_count": 238,
   "metadata": {},
   "outputs": [],
   "source": [
    "from numpy import loadtxt\n",
    "from scipy.optimize import minimize\n",
    "\n",
    "data = np.loadtxt(\"data_LC5.txt\", delimiter=\"\\t\", skiprows=1)\n",
    "sub1, sub2, sub3, sub4, sub5 = split_data(data)"
   ]
  },
  {
   "cell_type": "code",
   "execution_count": 243,
   "metadata": {},
   "outputs": [
    {
     "name": "stdout",
     "output_type": "stream",
     "text": [
      "Parameterwaarden voor proefpersoon 1: [0.58518662 0.66840349 0.66708293 0.70577783 0.23208445]\n",
      "Parameterwaarden voor proefpersoon 2: [0.75525392 0.90784589 0.435125   0.84144858 0.05871472]\n",
      "Parameterwaarden voor proefpersoon 3: [0.66777005 0.51849353 4.14009419 0.69928668 0.12209428]\n",
      "Parameterwaarden voor proefpersoon 4: [0.86814802 0.89307864 0.80953244 0.72211246 0.06046816]\n"
     ]
    },
    {
     "name": "stderr",
     "output_type": "stream",
     "text": [
      "/usr/local/lib/python3.5/dist-packages/ipykernel_launcher.py:3: RuntimeWarning: divide by zero encountered in double_scalars\n",
      "  This is separate from the ipykernel package so we can avoid doing imports until\n",
      "/usr/local/lib/python3.5/dist-packages/ipykernel_launcher.py:13: RuntimeWarning: divide by zero encountered in log\n",
      "  del sys.path[0]\n",
      "/usr/local/lib/python3.5/dist-packages/ipykernel_launcher.py:11: RuntimeWarning: invalid value encountered in double_scalars\n",
      "  # This is added back by InteractiveShellApp.init_path()\n"
     ]
    },
    {
     "name": "stdout",
     "output_type": "stream",
     "text": [
      "Parameterwaarden voor proefpersoon 5: [1.01507037e+00 2.65740911e+00 1.13394298e-05 2.35362872e+00\n",
      " 9.34463827e-03]\n"
     ]
    }
   ],
   "source": [
    "res1 = minimize(CPT_fit, np.array([0.5, 0.5, 0.5, 0.5, 0.05]), method='Nelder-Mead', args=sub1)\n",
    "print(\"Parameterwaarden voor proefpersoon 1:\", res1.x)\n",
    "\n",
    "res2 = minimize(CPT_fit, np.array([0.5, 0.5, 0.5, 0.5, 0.05]), method='Nelder-Mead', args=sub2)\n",
    "print(\"Parameterwaarden voor proefpersoon 2:\", res2.x)\n",
    "\n",
    "res3 = minimize(CPT_fit, np.array([0.5, 0.5, 0.5, 0.5, 0.05]), method='Nelder-Mead', args=sub3)\n",
    "print(\"Parameterwaarden voor proefpersoon 3:\", res3.x)\n",
    "\n",
    "res4 = minimize(CPT_fit, np.array([0.5, 0.5, 0.5, 0.5, 0.05]), method='Nelder-Mead', args=sub4)\n",
    "print(\"Parameterwaarden voor proefpersoon 4:\", res4.x)\n",
    "\n",
    "res5 = minimize(CPT_fit, np.array([0.5, 0.5, 0.5, 0.5, 0.05]), method='Nelder-Mead', args=sub5)\n",
    "print(\"Parameterwaarden voor proefpersoon 5:\", res5.x)"
   ]
  },
  {
   "cell_type": "markdown",
   "metadata": {},
   "source": [
    "## Q8 (10 pts)\n",
    "\n",
    "Fit nu dit model op je eigen data en rapporteer jouw parameter waarden, beschrijf net als bij Q7 wat voor een persoon jij bent. "
   ]
  },
  {
   "cell_type": "code",
   "execution_count": 240,
   "metadata": {},
   "outputs": [],
   "source": [
    "data_lotte = np.loadtxt(\"11291168_data.txt\", delimiter=\" \", skiprows=1)\n",
    "data_kaj = np.loadtxt(\"10509534_data.txt\", delimiter=\" \", skiprows=1)\n",
    "\n",
    "def CPT_fit2(params, data):\n",
    "    alpha, beta, labda, gamma, theta = params\n",
    "    LL = 0\n",
    "    \n",
    "    for line in data:\n",
    "        prob, choice = softmax(line[0], line[1], line[2], line[3], line[4], line[5], line[6], line[7], gamma, alpha, beta, labda, theta)\n",
    "        actual_choice = line[8]\n",
    "        if actual_choice == choice:\n",
    "            actual_prob = prob\n",
    "        else:\n",
    "            actual_prob = 1-prob\n",
    "        \n",
    "        LL += np.log(actual_prob)\n",
    "        \n",
    "    return -1*LL"
   ]
  },
  {
   "cell_type": "code",
   "execution_count": 241,
   "metadata": {},
   "outputs": [
    {
     "name": "stdout",
     "output_type": "stream",
     "text": [
      "Parameterwaarden voor Lotte: [ 1.30853596e-03 -4.13175832e+04  2.71563140e+04  1.00736576e+03\n",
      "  1.10761862e+04]\n"
     ]
    },
    {
     "name": "stderr",
     "output_type": "stream",
     "text": [
      "/usr/local/lib/python3.5/dist-packages/ipykernel_launcher.py:8: RuntimeWarning: invalid value encountered in double_scalars\n",
      "  \n"
     ]
    },
    {
     "ename": "OverflowError",
     "evalue": "math range error",
     "output_type": "error",
     "traceback": [
      "\u001b[0;31m---------------------------------------------------------------------------\u001b[0m",
      "\u001b[0;31mOverflowError\u001b[0m                             Traceback (most recent call last)",
      "\u001b[0;32m<ipython-input-241-38738c704ae0>\u001b[0m in \u001b[0;36m<module>\u001b[0;34m()\u001b[0m\n\u001b[1;32m      2\u001b[0m \u001b[0mprint\u001b[0m\u001b[0;34m(\u001b[0m\u001b[0;34m\"Parameterwaarden voor Lotte:\"\u001b[0m\u001b[0;34m,\u001b[0m \u001b[0mresLot\u001b[0m\u001b[0;34m.\u001b[0m\u001b[0mx\u001b[0m\u001b[0;34m)\u001b[0m\u001b[0;34m\u001b[0m\u001b[0m\n\u001b[1;32m      3\u001b[0m \u001b[0;34m\u001b[0m\u001b[0m\n\u001b[0;32m----> 4\u001b[0;31m \u001b[0mresKaj\u001b[0m \u001b[0;34m=\u001b[0m \u001b[0mminimize\u001b[0m\u001b[0;34m(\u001b[0m\u001b[0mCPT_fit2\u001b[0m\u001b[0;34m,\u001b[0m \u001b[0mnp\u001b[0m\u001b[0;34m.\u001b[0m\u001b[0marray\u001b[0m\u001b[0;34m(\u001b[0m\u001b[0;34m[\u001b[0m\u001b[0;36m0.5\u001b[0m\u001b[0;34m,\u001b[0m \u001b[0;36m0.5\u001b[0m\u001b[0;34m,\u001b[0m \u001b[0;36m0.5\u001b[0m\u001b[0;34m,\u001b[0m \u001b[0;36m0.5\u001b[0m\u001b[0;34m,\u001b[0m \u001b[0;36m0.05\u001b[0m\u001b[0;34m]\u001b[0m\u001b[0;34m)\u001b[0m\u001b[0;34m,\u001b[0m \u001b[0mmethod\u001b[0m\u001b[0;34m=\u001b[0m\u001b[0;34m'Nelder-Mead'\u001b[0m\u001b[0;34m,\u001b[0m \u001b[0margs\u001b[0m\u001b[0;34m=\u001b[0m\u001b[0mdata_kaj\u001b[0m\u001b[0;34m)\u001b[0m\u001b[0;34m\u001b[0m\u001b[0m\n\u001b[0m\u001b[1;32m      5\u001b[0m \u001b[0mprint\u001b[0m\u001b[0;34m(\u001b[0m\u001b[0;34m\"Parameterwaarden voor Kaj:\"\u001b[0m\u001b[0;34m,\u001b[0m \u001b[0mresKaj\u001b[0m\u001b[0;34m.\u001b[0m\u001b[0mx\u001b[0m\u001b[0;34m)\u001b[0m\u001b[0;34m\u001b[0m\u001b[0m\n",
      "\u001b[0;32m/usr/local/lib/python3.5/dist-packages/scipy/optimize/_minimize.py\u001b[0m in \u001b[0;36mminimize\u001b[0;34m(fun, x0, args, method, jac, hess, hessp, bounds, constraints, tol, callback, options)\u001b[0m\n\u001b[1;32m    589\u001b[0m                       callback=callback, **options)\n\u001b[1;32m    590\u001b[0m     \u001b[0;32melif\u001b[0m \u001b[0mmeth\u001b[0m \u001b[0;34m==\u001b[0m \u001b[0;34m'nelder-mead'\u001b[0m\u001b[0;34m:\u001b[0m\u001b[0;34m\u001b[0m\u001b[0m\n\u001b[0;32m--> 591\u001b[0;31m         \u001b[0;32mreturn\u001b[0m \u001b[0m_minimize_neldermead\u001b[0m\u001b[0;34m(\u001b[0m\u001b[0mfun\u001b[0m\u001b[0;34m,\u001b[0m \u001b[0mx0\u001b[0m\u001b[0;34m,\u001b[0m \u001b[0margs\u001b[0m\u001b[0;34m,\u001b[0m \u001b[0mcallback\u001b[0m\u001b[0;34m,\u001b[0m \u001b[0;34m**\u001b[0m\u001b[0moptions\u001b[0m\u001b[0;34m)\u001b[0m\u001b[0;34m\u001b[0m\u001b[0m\n\u001b[0m\u001b[1;32m    592\u001b[0m     \u001b[0;32melif\u001b[0m \u001b[0mmeth\u001b[0m \u001b[0;34m==\u001b[0m \u001b[0;34m'powell'\u001b[0m\u001b[0;34m:\u001b[0m\u001b[0;34m\u001b[0m\u001b[0m\n\u001b[1;32m    593\u001b[0m         \u001b[0;32mreturn\u001b[0m \u001b[0m_minimize_powell\u001b[0m\u001b[0;34m(\u001b[0m\u001b[0mfun\u001b[0m\u001b[0;34m,\u001b[0m \u001b[0mx0\u001b[0m\u001b[0;34m,\u001b[0m \u001b[0margs\u001b[0m\u001b[0;34m,\u001b[0m \u001b[0mcallback\u001b[0m\u001b[0;34m,\u001b[0m \u001b[0;34m**\u001b[0m\u001b[0moptions\u001b[0m\u001b[0;34m)\u001b[0m\u001b[0;34m\u001b[0m\u001b[0m\n",
      "\u001b[0;32m/usr/local/lib/python3.5/dist-packages/scipy/optimize/optimize.py\u001b[0m in \u001b[0;36m_minimize_neldermead\u001b[0;34m(func, x0, args, callback, maxiter, maxfev, disp, return_all, initial_simplex, xatol, fatol, adaptive, **unknown_options)\u001b[0m\n\u001b[1;32m    566\u001b[0m         \u001b[0mxbar\u001b[0m \u001b[0;34m=\u001b[0m \u001b[0mnumpy\u001b[0m\u001b[0;34m.\u001b[0m\u001b[0madd\u001b[0m\u001b[0;34m.\u001b[0m\u001b[0mreduce\u001b[0m\u001b[0;34m(\u001b[0m\u001b[0msim\u001b[0m\u001b[0;34m[\u001b[0m\u001b[0;34m:\u001b[0m\u001b[0;34m-\u001b[0m\u001b[0;36m1\u001b[0m\u001b[0;34m]\u001b[0m\u001b[0;34m,\u001b[0m \u001b[0;36m0\u001b[0m\u001b[0;34m)\u001b[0m \u001b[0;34m/\u001b[0m \u001b[0mN\u001b[0m\u001b[0;34m\u001b[0m\u001b[0m\n\u001b[1;32m    567\u001b[0m         \u001b[0mxr\u001b[0m \u001b[0;34m=\u001b[0m \u001b[0;34m(\u001b[0m\u001b[0;36m1\u001b[0m \u001b[0;34m+\u001b[0m \u001b[0mrho\u001b[0m\u001b[0;34m)\u001b[0m \u001b[0;34m*\u001b[0m \u001b[0mxbar\u001b[0m \u001b[0;34m-\u001b[0m \u001b[0mrho\u001b[0m \u001b[0;34m*\u001b[0m \u001b[0msim\u001b[0m\u001b[0;34m[\u001b[0m\u001b[0;34m-\u001b[0m\u001b[0;36m1\u001b[0m\u001b[0;34m]\u001b[0m\u001b[0;34m\u001b[0m\u001b[0m\n\u001b[0;32m--> 568\u001b[0;31m         \u001b[0mfxr\u001b[0m \u001b[0;34m=\u001b[0m \u001b[0mfunc\u001b[0m\u001b[0;34m(\u001b[0m\u001b[0mxr\u001b[0m\u001b[0;34m)\u001b[0m\u001b[0;34m\u001b[0m\u001b[0m\n\u001b[0m\u001b[1;32m    569\u001b[0m         \u001b[0mdoshrink\u001b[0m \u001b[0;34m=\u001b[0m \u001b[0;36m0\u001b[0m\u001b[0;34m\u001b[0m\u001b[0m\n\u001b[1;32m    570\u001b[0m \u001b[0;34m\u001b[0m\u001b[0m\n",
      "\u001b[0;32m/usr/local/lib/python3.5/dist-packages/scipy/optimize/optimize.py\u001b[0m in \u001b[0;36mfunction_wrapper\u001b[0;34m(*wrapper_args)\u001b[0m\n\u001b[1;32m    291\u001b[0m     \u001b[0;32mdef\u001b[0m \u001b[0mfunction_wrapper\u001b[0m\u001b[0;34m(\u001b[0m\u001b[0;34m*\u001b[0m\u001b[0mwrapper_args\u001b[0m\u001b[0;34m)\u001b[0m\u001b[0;34m:\u001b[0m\u001b[0;34m\u001b[0m\u001b[0m\n\u001b[1;32m    292\u001b[0m         \u001b[0mncalls\u001b[0m\u001b[0;34m[\u001b[0m\u001b[0;36m0\u001b[0m\u001b[0;34m]\u001b[0m \u001b[0;34m+=\u001b[0m \u001b[0;36m1\u001b[0m\u001b[0;34m\u001b[0m\u001b[0m\n\u001b[0;32m--> 293\u001b[0;31m         \u001b[0;32mreturn\u001b[0m \u001b[0mfunction\u001b[0m\u001b[0;34m(\u001b[0m\u001b[0;34m*\u001b[0m\u001b[0;34m(\u001b[0m\u001b[0mwrapper_args\u001b[0m \u001b[0;34m+\u001b[0m \u001b[0margs\u001b[0m\u001b[0;34m)\u001b[0m\u001b[0;34m)\u001b[0m\u001b[0;34m\u001b[0m\u001b[0m\n\u001b[0m\u001b[1;32m    294\u001b[0m \u001b[0;34m\u001b[0m\u001b[0m\n\u001b[1;32m    295\u001b[0m     \u001b[0;32mreturn\u001b[0m \u001b[0mncalls\u001b[0m\u001b[0;34m,\u001b[0m \u001b[0mfunction_wrapper\u001b[0m\u001b[0;34m\u001b[0m\u001b[0m\n",
      "\u001b[0;32m<ipython-input-240-78529ee6537e>\u001b[0m in \u001b[0;36mCPT_fit2\u001b[0;34m(params, data)\u001b[0m\n\u001b[1;32m      7\u001b[0m \u001b[0;34m\u001b[0m\u001b[0m\n\u001b[1;32m      8\u001b[0m     \u001b[0;32mfor\u001b[0m \u001b[0mline\u001b[0m \u001b[0;32min\u001b[0m \u001b[0mdata\u001b[0m\u001b[0;34m:\u001b[0m\u001b[0;34m\u001b[0m\u001b[0m\n\u001b[0;32m----> 9\u001b[0;31m         \u001b[0mprob\u001b[0m\u001b[0;34m,\u001b[0m \u001b[0mchoice\u001b[0m \u001b[0;34m=\u001b[0m \u001b[0msoftmax\u001b[0m\u001b[0;34m(\u001b[0m\u001b[0mline\u001b[0m\u001b[0;34m[\u001b[0m\u001b[0;36m0\u001b[0m\u001b[0;34m]\u001b[0m\u001b[0;34m,\u001b[0m \u001b[0mline\u001b[0m\u001b[0;34m[\u001b[0m\u001b[0;36m1\u001b[0m\u001b[0;34m]\u001b[0m\u001b[0;34m,\u001b[0m \u001b[0mline\u001b[0m\u001b[0;34m[\u001b[0m\u001b[0;36m2\u001b[0m\u001b[0;34m]\u001b[0m\u001b[0;34m,\u001b[0m \u001b[0mline\u001b[0m\u001b[0;34m[\u001b[0m\u001b[0;36m3\u001b[0m\u001b[0;34m]\u001b[0m\u001b[0;34m,\u001b[0m \u001b[0mline\u001b[0m\u001b[0;34m[\u001b[0m\u001b[0;36m4\u001b[0m\u001b[0;34m]\u001b[0m\u001b[0;34m,\u001b[0m \u001b[0mline\u001b[0m\u001b[0;34m[\u001b[0m\u001b[0;36m5\u001b[0m\u001b[0;34m]\u001b[0m\u001b[0;34m,\u001b[0m \u001b[0mline\u001b[0m\u001b[0;34m[\u001b[0m\u001b[0;36m6\u001b[0m\u001b[0;34m]\u001b[0m\u001b[0;34m,\u001b[0m \u001b[0mline\u001b[0m\u001b[0;34m[\u001b[0m\u001b[0;36m7\u001b[0m\u001b[0;34m]\u001b[0m\u001b[0;34m,\u001b[0m \u001b[0mgamma\u001b[0m\u001b[0;34m,\u001b[0m \u001b[0malpha\u001b[0m\u001b[0;34m,\u001b[0m \u001b[0mbeta\u001b[0m\u001b[0;34m,\u001b[0m \u001b[0mlabda\u001b[0m\u001b[0;34m,\u001b[0m \u001b[0mtheta\u001b[0m\u001b[0;34m)\u001b[0m\u001b[0;34m\u001b[0m\u001b[0m\n\u001b[0m\u001b[1;32m     10\u001b[0m         \u001b[0mactual_choice\u001b[0m \u001b[0;34m=\u001b[0m \u001b[0mline\u001b[0m\u001b[0;34m[\u001b[0m\u001b[0;36m8\u001b[0m\u001b[0;34m]\u001b[0m\u001b[0;34m\u001b[0m\u001b[0m\n\u001b[1;32m     11\u001b[0m         \u001b[0;32mif\u001b[0m \u001b[0mactual_choice\u001b[0m \u001b[0;34m==\u001b[0m \u001b[0mchoice\u001b[0m\u001b[0;34m:\u001b[0m\u001b[0;34m\u001b[0m\u001b[0m\n",
      "\u001b[0;32m<ipython-input-231-e7e7a02b87c7>\u001b[0m in \u001b[0;36msoftmax\u001b[0;34m(p1, o1, p2, o2, p3, o3, p4, o4, gamma, alpha, beta, labda, theta)\u001b[0m\n\u001b[1;32m     19\u001b[0m \u001b[0;34m\u001b[0m\u001b[0m\n\u001b[1;32m     20\u001b[0m     \u001b[0mtop\u001b[0m \u001b[0;34m=\u001b[0m \u001b[0;36m1\u001b[0m\u001b[0;34m\u001b[0m\u001b[0m\n\u001b[0;32m---> 21\u001b[0;31m     \u001b[0mbottom\u001b[0m \u001b[0;34m=\u001b[0m \u001b[0mtop\u001b[0m \u001b[0;34m+\u001b[0m \u001b[0mmath\u001b[0m\u001b[0;34m.\u001b[0m\u001b[0mexp\u001b[0m\u001b[0;34m(\u001b[0m\u001b[0;34m-\u001b[0m\u001b[0mtheta\u001b[0m \u001b[0;34m*\u001b[0m \u001b[0;34m(\u001b[0m\u001b[0mev1\u001b[0m \u001b[0;34m-\u001b[0m \u001b[0mev2\u001b[0m\u001b[0;34m)\u001b[0m\u001b[0;34m)\u001b[0m\u001b[0;34m\u001b[0m\u001b[0m\n\u001b[0m\u001b[1;32m     22\u001b[0m \u001b[0;34m\u001b[0m\u001b[0m\n\u001b[1;32m     23\u001b[0m     \u001b[0;31m# first softmax\u001b[0m\u001b[0;34m\u001b[0m\u001b[0;34m\u001b[0m\u001b[0m\n",
      "\u001b[0;31mOverflowError\u001b[0m: math range error"
     ]
    }
   ],
   "source": [
    "resLot = minimize(CPT_fit2, np.array([0.5, 0.5, 0.5, 0.5, 0.05]), method='Nelder-Mead', args=data_lotte)\n",
    "print(\"Parameterwaarden voor Lotte:\", resLot.x)\n",
    "\n",
    "resKaj = minimize(CPT_fit2, np.array([0.5, 0.5, 0.5, 0.5, 0.05]), method='Nelder-Mead', args=data_kaj)\n",
    "print(\"Parameterwaarden voor Kaj:\", resKaj.x)"
   ]
  }
 ],
 "metadata": {
  "kernelspec": {
   "display_name": "Python 3",
   "language": "python",
   "name": "python3"
  },
  "language_info": {
   "codemirror_mode": {
    "name": "ipython",
    "version": 3
   },
   "file_extension": ".py",
   "mimetype": "text/x-python",
   "name": "python",
   "nbconvert_exporter": "python",
   "pygments_lexer": "ipython3",
   "version": "3.5.2"
  }
 },
 "nbformat": 4,
 "nbformat_minor": 2
}
