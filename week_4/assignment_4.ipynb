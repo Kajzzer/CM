{
 "cells": [
  {
   "cell_type": "markdown",
   "metadata": {},
   "source": [
    "# Q-Learning pt.2  Frozen Lake"
   ]
  },
  {
   "cell_type": "markdown",
   "metadata": {},
   "source": [
    "## Winter is coming:\n",
    "\n",
    "![](lake.png) \n",
    "Winter is here. You and your friends were tossing around a frisbee at the park when you made a wild throw that left the frisbee out in the middle of the lake. The water is mostly frozen, but there are a few holes where the ice has melted. If you step into one of those holes, you'll fall into the freezing water. At this time, there's an international frisbee shortage, so it's absolutely imperative that you navigate across the lake and retrieve the disc. However, because you don't want to get wet you send out your robot to retrieve the frisbee. The surface is described using a grid like the following:\n",
    "    \n",
    "        State:        State #:\n",
    "        S F F F     0  1  2  3\n",
    "        F H F H     4  5  6  7 \n",
    "        F F F H     8  9  10 11 \n",
    "        H F F G     12 13 14 15 \n",
    "        \n",
    "        \n",
    "    S : starting point, safe\n",
    "    F : frozen surface, safe\n",
    "    H : hole, fall to your doom (instant death)\n",
    "    G : goal, where the frisbee is located\n",
    "    \n",
    "The episode ends when you reach the goal or fall in a hole.\n",
    "    \n",
    "You receive a reward of 1 if you reach the goal, and zero otherwise.\n",
    "\n"
   ]
  },
  {
   "cell_type": "code",
   "execution_count": 1,
   "metadata": {
    "scrolled": true
   },
   "outputs": [],
   "source": [
    "# The Frozenlake is a standard practive environtment from the Open AI Gym. \n",
    "# Gym is a toolkit for developing and comparing reinforcement learning algorithms. \n",
    "# It supports teaching agents everything from walking to playing games like Pong or Pinball.\n",
    "# If you do not have this installed yet (shame, shame): https://gym.openai.com/docs/#installation \n",
    "\n",
    "import gym\n",
    "import math\n",
    "import numpy as np\n",
    "import random\n",
    "\n",
    "%matplotlib inline\n",
    "import matplotlib.pyplot as plt\n"
   ]
  },
  {
   "cell_type": "markdown",
   "metadata": {},
   "source": [
    "### loading the environment"
   ]
  },
  {
   "cell_type": "code",
   "execution_count": 2,
   "metadata": {},
   "outputs": [],
   "source": [
    "# Let's load the Frozen lake environment\n",
    "# Slippery means that sometimes the robot will slip on the ice and move in a random direction \n",
    "env_4x4 = gym.make('FrozenLake-v0',map_name=\"4x4\",is_slippery=False)"
   ]
  },
  {
   "cell_type": "markdown",
   "metadata": {},
   "source": [
    "### check the environment"
   ]
  },
  {
   "cell_type": "code",
   "execution_count": 3,
   "metadata": {},
   "outputs": [
    {
     "name": "stdout",
     "output_type": "stream",
     "text": [
      "\n",
      "\u001b[41mS\u001b[0mFFF\n",
      "FHFH\n",
      "FFFH\n",
      "HFFG\n"
     ]
    }
   ],
   "source": [
    "# This function shows your current location and the environment\n",
    "env_4x4.render()"
   ]
  },
  {
   "cell_type": "markdown",
   "metadata": {},
   "source": [
    "### Implement Q-Table learning algorithm\n",
    "\n",
    "Ontwikkel nu een Q learning algoritme dat kan leren hoe het beste van start $S$ naar het doel $G$ te lopen, en dus de wakken de vermijden.\n",
    "\n",
    "Details over Q-learning zijn terug te vinden in de college slides en het hoofdstuk van Gureckis & Love [**computational reinforcement learning**](http://bradlove.org/papers/GureckisLovePress.pdf) en voor meer verdieping in het online boek van [**Sutton & Barto**](http://incompleteideas.net/book/bookdraft2018jan1.pdf) en dan met name hoofdstuk 6.\n",
    "\n",
    "\n",
    "**Let op:** In dit experiment zijn meerdere states. Dit heeft als gevolg dat bij het leren rekening gehouden moet worden met de actie in de volgende state gemaakt wordt. We gaan hier dan vanuit dat de robot altijd de actie kiest met de hoogste Q-value. De prediction error wordt dus:\n",
    "\n",
    "$$\\delta = r_{t+1} + \\gamma\\ max_a\\ Q(s_{t+1} , a) − Q(s_t , a_t)$$\n",
    "\n",
    "Waarbij de Q-value update nog steeds is gedefinieerd als:\n",
    "\n",
    "$$Q(s_t, a_t) = Q(s_t, a_t) + \\alpha \\delta$$\n",
    "\n",
    "In het begin van het experiment heeft de robot geen enkele kennis van de wereld en geen enkele verwachtingen voor van het krijgen van beloningen. Voor elke actie op elk vlak van het grid geld dus:\n",
    "\n",
    "$Q(s, LEFT)=Q(s, RIGHT)=Q(s, UP)=Q(s, DOWN)=0$\n",
    "\n",
    "\n",
    "# 1.a (10 punten)\n",
    "\n",
    "Schrijf een functie `q_learn` die als input env (*Open AI Gym* environment), alpha ($\\alpha$), epsilon ($\\epsilon$), gamma ($\\gamma$) en episodes accepteert. \n",
    "\n",
    "De output van deze functie moet een table zijn met $Q$ waarden zijn voor elke state en elke actie. Er zijn 16 states en 4 acties dus in totaal 64 combinaties. Voor de diagnose van het algoritme is het ook belangrijk een lijst met totale verdiende beloningen, maar ook het hoeveelheid stappen tot het doel (per episode) als output te hebben. \n",
    "\n",
    "We gaan er nu van uit dat de robot de $\\epsilon$-greedy keuze regel toepast, waarbij $\\epsilon$ afneemt met tijd. \n",
    "\n",
    "Hier alvast wat code om je op weg te helpen:\n",
    "\n",
    "```python\n",
    "def q_learn(env, alpha=.8, gamma=.95, epsilon=.1, num_episodes=2000):\n",
    "\n",
    "    # Initialize Q table with all zeros\n",
    "    states = env.observation_space.n\n",
    "    actions = env.action_space.n\n",
    "    Q = np.zeros([states,actions])\n",
    "\n",
    "    # Create lists to contain total rewards and steps per episode\n",
    "    jList = [] #step list\n",
    "    rList = [] #reward list\n",
    "\n",
    "    # Start learning:\n",
    "    for i in range(num_episodes):\n",
    "        # Reset environment and get first new observation\n",
    "        s = env.reset()\n",
    "        # Total rewards this episode start at 0\n",
    "        rAll = 0\n",
    "        # You are still not done: (d is specific to frozen lake) \n",
    "        d = False\n",
    "        # Run counter reset:\n",
    "        j = 0\n",
    "    \n",
    "        # The Q-Table learning algorithm, each episode consists of several learning runs (loops)\n",
    "        while j < 100:\n",
    "            j+=1\n",
    "        \n",
    "            # Choose an action by greedily picking from Q table\n",
    "            # NOTE (a)ctions in FrozenLake are 0:left,1:down,2:right,3:up  (this is hardcoded in env.)\n",
    "            # add a tiny tiny bit of noise to the Q table to arbitrate between draws (order of .0001)\n",
    "            # implement the e-greedy rule\n",
    "            a = # TODO\n",
    "            \n",
    "                 \n",
    "            # Get new state and reward from environment, this can/must be done with env.step from the Gym\n",
    "            # where s1 is the new state, r is the reward, and d means the end (hole or frisbee)\n",
    "            s1,r,d,_ = env.step(a)\n",
    "            \n",
    "            # Update Q-Table with new knowledge (assume you pick a with highest value in that state)\n",
    "            Q[s,a] = # TODO\n",
    "            \n",
    "            \n",
    "            # Update total rewards\n",
    "            rAll += r\n",
    "            \n",
    "            # If frisbee or hole (d) then end run\n",
    "            # TODO\n",
    "            \n",
    "            \n",
    "            # Update state\n",
    "            s = s1\n",
    "        \n",
    "   \n",
    "        # Update e, reducing exploration over episodes\n",
    "        epsilon = epsilon*.999\n",
    "        jList.append(j)\n",
    "        rList.append(rAll)\n",
    "    \n",
    "    return (rList, jList, Q)  \n",
    "```\n",
    "\n",
    "de ingevoerde hyperparameters werken goed maar voel je vrij om hier mee te experimenteren. \n"
   ]
  },
  {
   "cell_type": "code",
   "execution_count": 4,
   "metadata": {},
   "outputs": [],
   "source": [
    "def greedy(Q, s, epsilon):\n",
    "    \n",
    "    Q_state = Q[s]\n",
    "    \n",
    "    # choose action\n",
    "    if random.random() < epsilon:\n",
    "\n",
    "        # random action\n",
    "        action = random.randint(0,3)\n",
    "    else:\n",
    "        \n",
    "        # greedy action\n",
    "        highest = max(Q_state)\n",
    "        options = [x for x in range(len(Q_state)) if Q_state[x] == highest]\n",
    "        action = random.choice(options)\n",
    "        \n",
    "    return action\n",
    "\n",
    "\n",
    "def update_Q(Q, r, s1, s, a, alpha, gamma):\n",
    "    a1 = greedy(Q, s1, 0)\n",
    "    return Q[s, a] + alpha*(r + gamma*Q[s1, a1] - Q[s, a])\n",
    "\n",
    "\n",
    "def q_learn(env, alpha=.8, gamma=.95, epsilon=.1, num_episodes=2000):\n",
    "\n",
    "    # Initialize Q table with all zeros\n",
    "    states = env.observation_space.n\n",
    "    actions = env.action_space.n\n",
    "    Q = np.zeros([states,actions])\n",
    "\n",
    "    # Create lists to contain total rewards and steps per episode\n",
    "    jList = [] #step list\n",
    "    rList = [] #reward list\n",
    "\n",
    "    # Start learning:\n",
    "    for i in range(num_episodes):\n",
    "        # Reset environment and get first new observation\n",
    "        s = env.reset()\n",
    "        # Total rewards this episode start at 0\n",
    "        rAll = 0\n",
    "        # You are still not done: (d is specific to frozen lake) \n",
    "        d = False\n",
    "        # Run counter reset:\n",
    "        j = 0\n",
    "\n",
    "        # The Q-Table learning algorithm, each episode consists of several learning runs (loops)\n",
    "        while j < 100:\n",
    "            j+=1\n",
    "\n",
    "            # Choose an action by greedily picking from Q table\n",
    "            # NOTE (a)ctions in FrozenLake are 0:left,1:down,2:right,3:up  (this is hardcoded in env.)\n",
    "            # add a tiny tiny bit of noise to the Q table to arbitrate between draws (order of .0001)\n",
    "            # implement the e-greedy rule\n",
    "            a = greedy(Q, s, epsilon)\n",
    "\n",
    "\n",
    "            # Get new state and reward from environment, this can/must be done with env.step from the Gym\n",
    "            # where s1 is the new state, r is the reward, and d means the end (hole or frisbee)\n",
    "            s1,r,d,_ = env.step(a)\n",
    "\n",
    "            # Update Q-Table with new knowledge (assume you pick a with highest value in that state)\n",
    "            Q[s,a] = update_Q(Q, r, s1, s, a, alpha, gamma)\n",
    "\n",
    "\n",
    "            # Update total rewards\n",
    "            rAll += r\n",
    "\n",
    "            # If frisbee or hole (d) then end run\n",
    "            if d:\n",
    "                break\n",
    "\n",
    "            # Update state\n",
    "            s = s1\n",
    "\n",
    "\n",
    "        # Update e, reducing exploration over episodes\n",
    "        epsilon = epsilon*.999\n",
    "        jList.append(j)\n",
    "        rList.append(rAll)\n",
    "\n",
    "    return (rList, jList, Q)"
   ]
  },
  {
   "cell_type": "code",
   "execution_count": 5,
   "metadata": {},
   "outputs": [],
   "source": [
    "one_a = q_learn(env_4x4)"
   ]
  },
  {
   "cell_type": "code",
   "execution_count": 6,
   "metadata": {},
   "outputs": [
    {
     "data": {
      "text/plain": [
       "array([[0.73509189, 0.69833729, 0.77378094, 0.73509189],\n",
       "       [0.73509189, 0.        , 0.81450625, 0.77378092],\n",
       "       [0.77378094, 0.857375  , 0.7737809 , 0.81450625],\n",
       "       [0.81450625, 0.        , 0.        , 0.61803089],\n",
       "       [0.        , 0.        , 0.        , 0.73509189],\n",
       "       [0.        , 0.        , 0.        , 0.        ],\n",
       "       [0.        , 0.9025    , 0.        , 0.81450625],\n",
       "       [0.        , 0.        , 0.        , 0.        ],\n",
       "       [0.        , 0.        , 0.        , 0.        ],\n",
       "       [0.        , 0.9025    , 0.        , 0.        ],\n",
       "       [0.857375  , 0.95      , 0.        , 0.857375  ],\n",
       "       [0.        , 0.        , 0.        , 0.        ],\n",
       "       [0.        , 0.        , 0.        , 0.        ],\n",
       "       [0.        , 0.722     , 0.95      , 0.68589816],\n",
       "       [0.9025    , 0.95      , 1.        , 0.9025    ],\n",
       "       [0.        , 0.        , 0.        , 0.        ]])"
      ]
     },
     "execution_count": 6,
     "metadata": {},
     "output_type": "execute_result"
    }
   ],
   "source": [
    "one_a[2]"
   ]
  },
  {
   "cell_type": "markdown",
   "metadata": {},
   "source": [
    "\n",
    "# 1.b   (10 punten) \n",
    "\n",
    "Laat me**t** behulp van deze functie de robot 1000 episodes leren over deze wereld (1 leer episode bestaat dus uit 100 trials). Bereken de gemiddelde score over alle episodes. (heel soms komt dit model niet op de oplossing run het dan nog eens). \n",
    "\n",
    "Plot ook in bins van 10 trials (dus gemiddelde beloning per bin van 10 trials), de verandering in beloningen over tijd. Waar ligt het omslag punt? \n",
    "\n",
    "Plot ook in bins van 10 trails, de hoeveelheid stappen er gemaakt zijn. Hoe kort is de korste route tot succes waar het model op uitkomt? Hoe verhoud zich dit tot de werklijke korste route?"
   ]
  },
  {
   "cell_type": "markdown",
   "metadata": {},
   "source": [
    "Het omslagpunt zit tussen de 300 en 350 episodes.\n",
    "\n",
    "De kortste route over het gemiddelde van 10 episodes is 4 of 5. Dit komt waarschijnlijk doordat de episode eerder eindigde in een wak. De daadwerkelijke korste route naar de frisbee is namelijk 6."
   ]
  },
  {
   "cell_type": "code",
   "execution_count": 7,
   "metadata": {},
   "outputs": [],
   "source": [
    "def average_score(rewards):\n",
    "    return sum(rewards)/len(rewards)\n",
    "    \n",
    "def evaluation(some_list, label):\n",
    "    \n",
    "    some_list = np.asarray(some_list)\n",
    "\n",
    "    # Width is de grote van elke bin\n",
    "    width = 10\n",
    "    # Hier knippen we de laatste (choicelist_1.size % width) elementen van de lijst\n",
    "    # Dan reshapen we naar een matrix van X * width en nemen we de mean over de width axis\n",
    "    # Hiermee krijgen we dus het gemiddelde aantal keer dat deze keuze gemaakt is voor width stappen\n",
    "    result = some_list[:(some_list.size // width * width)].reshape(-1, width).mean(axis=1)\n",
    "    plt.plot(result, label=label)\n",
    "\n",
    "    plt.legend()\n",
    "    plt.show()"
   ]
  },
  {
   "cell_type": "code",
   "execution_count": 8,
   "metadata": {},
   "outputs": [
    {
     "data": {
      "text/plain": [
       "0.847"
      ]
     },
     "execution_count": 8,
     "metadata": {},
     "output_type": "execute_result"
    }
   ],
   "source": [
    "one_b = q_learn(env_4x4, .8, .95, .1, 1000)\n",
    "\n",
    "# the average score \n",
    "average_score(one_b[0])"
   ]
  },
  {
   "cell_type": "code",
   "execution_count": 9,
   "metadata": {
    "scrolled": true
   },
   "outputs": [
    {
     "data": {
      "image/png": "[encoded data removed]",
      "text/plain": [
       "<Figure size 432x288 with 1 Axes>"
      ]
     },
     "metadata": {},
     "output_type": "display_data"
    }
   ],
   "source": [
    "evaluation(one_b[0], \"reward\")"
   ]
  },
  {
   "cell_type": "code",
   "execution_count": 10,
   "metadata": {},
   "outputs": [
    {
     "data": {
      "image/png": "[encoded data removed]",
      "text/plain": [
       "<Figure size 432x288 with 1 Axes>"
      ]
     },
     "metadata": {},
     "output_type": "display_data"
    }
   ],
   "source": [
    "evaluation(one_b[1], \"# steps\")"
   ]
  },
  {
   "cell_type": "markdown",
   "metadata": {},
   "source": [
    "# Q tables\n",
    "# 1.c (5 punten)\n",
    "\n",
    "Laten we nu naar de $Q$ tables gaan kijken. We kunnen zo inspecteren welk route de robot zou lopen als deze altijd max$Q$ zou kiezen (dus puur greedy, $epsilon$=0).\n",
    "\n",
    "Gebruik nu de final $Q$ table die `learn_q()` aan het eind geeft. Hierbij is elke kolom de lijst van Q values voor 1 actie in alle 16 states. Dus `output[2][:,0]` geeft je de meest linker kolom en dat zijn de Q values voor actie naar links bewegen. \n",
    "\n",
    "Zorg dat je een lijst krijgt (Qmax) met voor elke state de actie die de hoogste Q value had. Representeer hier elke actie met een getal (0=links, 1=benden, 2=rechts, 3=boven). Plot vervolgens deze lijst in een grid: \n",
    "\n",
    "```python\n",
    "env_4x4.render()\n",
    "print()\n",
    "\n",
    "Qmax=np.asarray(Qmax).reshape((4,4))\n",
    "print(Qmax)\n",
    "\n",
    "plt.matshow(Qmax)\n",
    "plt.show()\n",
    "```\n",
    "\n",
    "Hiervoor gebruiken we [matshow](https://matplotlib.org/api/_as_gen/matplotlib.pyplot.matshow.html), om te zorgen dat de verschillende waarde in de matrix getoond worden met verschillende kleuren. Donkere kleuren zijn hierbij lage waardes en lichte kleuren hogere waardes.\n",
    "\n",
    "Ga nu na hoe de robot loopt, gaat deze links of rechts langs het wak linksboven op de kaart. "
   ]
  },
  {
   "cell_type": "markdown",
   "metadata": {},
   "source": [
    "Het verschilt per keer runnen hoe de robot loopt. Soms loopt hij linksom en soms rechtsom."
   ]
  },
  {
   "cell_type": "code",
   "execution_count": 11,
   "metadata": {},
   "outputs": [
    {
     "name": "stdout",
     "output_type": "stream",
     "text": [
      "  (Right)\n",
      "SFFF\n",
      "FHFH\n",
      "FFFH\n",
      "HFF\u001b[41mG\u001b[0m\n",
      "\n",
      "[[0.77378094 0.         0.         0.        ]\n",
      " [0.81450625 0.         0.         0.        ]\n",
      " [0.857375   0.9025     0.         0.        ]\n",
      " [0.         0.95       1.         0.        ]]\n"
     ]
    },
    {
     "data": {
      "image/png": "[encoded data removed]",
      "text/plain": [
       "<Figure size 288x288 with 1 Axes>"
      ]
     },
     "metadata": {},
     "output_type": "display_data"
    }
   ],
   "source": [
    "one_c = q_learn(env_4x4, .8, .95, 0, 1000)\n",
    "\n",
    "env_4x4.render()\n",
    "print()\n",
    "\n",
    "Qmax = [max(x) for x in one_c[2]]\n",
    "\n",
    "Qmax=np.asarray(Qmax).reshape((4,4))\n",
    "print(Qmax)\n",
    "\n",
    "plt.matshow(Qmax)\n",
    "plt.show()\n"
   ]
  },
  {
   "cell_type": "markdown",
   "metadata": {},
   "source": [
    "# 2 loading the slippery environment\n",
    "We kijken nu even snel naar hoe de robot zich op glad ijs gaat begeven. Nu zal hij dus af en toe gewoon een andere kant opschuiven. Laad omgeving opnieuw in nu met `is_slippery=True`"
   ]
  },
  {
   "cell_type": "code",
   "execution_count": 12,
   "metadata": {},
   "outputs": [],
   "source": [
    "#let's load the Frozen lake environment\n",
    "#slippery means that sometimes the robot will slip on the ice and move in a random direction \n",
    "env_slip = gym.make('FrozenLake-v0',map_name=\"4x4\",is_slippery=True)"
   ]
  },
  {
   "cell_type": "markdown",
   "metadata": {},
   "source": [
    "## 2.a (5 punten)\n",
    "Run hetzelfde `q_learn` algoritme, met dezelfde parameter waardes. Laat nu ook weer de gemiddelde score zien, en ook hoe de gemiddelde beloning en het aantal stappen met de tijd verandert. Vergelijk dit met de non-slippery omgeving van hiervoor, noem de meest opvallende verschillen en leg uit waarom we die zien. "
   ]
  },
  {
   "cell_type": "markdown",
   "metadata": {},
   "source": [
    "De grafieken hebben veel extremere pieken. De robot heeft moeite met het leren van het pad omdat hij willekeurige kanten op kan glijden. Hij krijgt na 1000 episodes geen consistente beloning en het aantal stappen blijft erg hoog. "
   ]
  },
  {
   "cell_type": "code",
   "execution_count": 13,
   "metadata": {},
   "outputs": [
    {
     "data": {
      "text/plain": [
       "0.235"
      ]
     },
     "execution_count": 13,
     "metadata": {},
     "output_type": "execute_result"
    }
   ],
   "source": [
    "two_a = q_learn(env_slip, .8, .95, .1, 1000)\n",
    "average_score(two_a[0])"
   ]
  },
  {
   "cell_type": "code",
   "execution_count": 14,
   "metadata": {
    "scrolled": true
   },
   "outputs": [
    {
     "data": {
      "image/png": "[encoded data removed]",
      "text/plain": [
       "<Figure size 432x288 with 1 Axes>"
      ]
     },
     "metadata": {},
     "output_type": "display_data"
    }
   ],
   "source": [
    "evaluation(two_a[0], \"rewards\")"
   ]
  },
  {
   "cell_type": "code",
   "execution_count": 15,
   "metadata": {},
   "outputs": [
    {
     "data": {
      "image/png": "[encoded data removed]",
      "text/plain": [
       "<Figure size 432x288 with 1 Axes>"
      ]
     },
     "metadata": {},
     "output_type": "display_data"
    }
   ],
   "source": [
    "evaluation(two_a[1], \"# steps\")"
   ]
  },
  {
   "cell_type": "markdown",
   "metadata": {},
   "source": [
    "# 3 loading the 8x8 environment\n",
    "We gaat het nu wat moeilijker maken en maken het ijsmeer wat groter. Laad nu het **niet gladde** grotere ijsmeer in:\n",
    "```python\n",
    "env = gym.make('FrozenLake-v0',map_name=\"8x8\",is_slippery=False)\n",
    "```"
   ]
  },
  {
   "cell_type": "code",
   "execution_count": 16,
   "metadata": {},
   "outputs": [],
   "source": [
    "#let's load the Frozen lake environment\n",
    "#slippery means that sometimes you slip on the ice and move in a random direction \n",
    "env_8x8 = gym.make('FrozenLake-v0',map_name=\"8x8\",is_slippery=False)"
   ]
  },
  {
   "cell_type": "markdown",
   "metadata": {},
   "source": [
    "Check even deze nieuwe omgeving: `env.render()` "
   ]
  },
  {
   "cell_type": "code",
   "execution_count": 17,
   "metadata": {},
   "outputs": [
    {
     "name": "stdout",
     "output_type": "stream",
     "text": [
      "\n",
      "\u001b[41mS\u001b[0mFFFFFFF\n",
      "FFFFFFFF\n",
      "FFFHFFFF\n",
      "FFFFFHFF\n",
      "FFFHFFFF\n",
      "FHHFFFHF\n",
      "FHFFHFHF\n",
      "FFFHFFFG\n"
     ]
    }
   ],
   "source": [
    "# this function shows your current location and the environment\n",
    "env_8x8.render()"
   ]
  },
  {
   "cell_type": "markdown",
   "metadata": {},
   "source": [
    "## 3.a. (5 punten)\n",
    "Het nieuwe meer is 8x8 maar verder helemaal hezelfde. We kunnen dan ook weer hetzelfde `q_learn()` hier op los laten. Doe dit, met weer dezelfde parameter waardes als je eerder bij de 4x4 hebt gebruikt. Rapporteer wederom hoe goed de robot het doet in termen van verkregen beloningen en aantal stappen genomen. Zie je ook een omslag punt?"
   ]
  },
  {
   "cell_type": "code",
   "execution_count": 18,
   "metadata": {},
   "outputs": [
    {
     "data": {
      "image/png": "[encoded data removed]",
      "text/plain": [
       "<Figure size 432x288 with 1 Axes>"
      ]
     },
     "metadata": {},
     "output_type": "display_data"
    }
   ],
   "source": [
    "three_a = q_learn(env_8x8, .8, .95, .1, 1000)\n",
    "evaluation(three_a[0], \"rewards\")"
   ]
  },
  {
   "cell_type": "code",
   "execution_count": 19,
   "metadata": {},
   "outputs": [
    {
     "data": {
      "image/png": "[encoded data removed]",
      "text/plain": [
       "<Figure size 432x288 with 1 Axes>"
      ]
     },
     "metadata": {},
     "output_type": "display_data"
    }
   ],
   "source": [
    "evaluation(three_a[1], \"# steps\")"
   ]
  },
  {
   "cell_type": "markdown",
   "metadata": {},
   "source": [
    "## 3.b. wereld kennis (20 punten)\n",
    "\n",
    "In het grid van 8x8 zien we dat de robot velen trials nodig heeft om een simpele taak op te lossen. En dit is nog maar een erg simpele wereld met slechts 64 states! We gaan nu proberen of we de Q-learning robot een beetje kunnen helpen sneller te leren. Zoals we in het college gezien hebben (en zie [hier](https://arxiv.org/pdf/1802.10217.pdf)) zijn mensen heel snel in het leren van computer games omdat ze hun kennis over de wereld toepassen op de spelwereld. Laten we dat hier ook proberen en de robot wat meer kennis geven. \n",
    "\n",
    "Om te beginnen is het voor de robot nu niet heel duidelijk dat in een wak vallen een slecht idee is. De beloning die er bij hoort is nu nul. Het is voor mensen duidelijk dat in een wak vallen niet goed is voor het doel behalen. Zo kan je dus een kleine aanpassing maken.\n",
    "Implementeer ook het volgende:\n",
    "\n",
    "```python\n",
    " if d and r == 0:\n",
    "     r = -1\n",
    "```\n",
    "\n",
    "doe dit direct na de `env.step()` stap waarbij dus net `r` is bepaald. Dit zal het model helpen sneller te leren om wakken te vermijden, door daar een negatieve reward aan te geven.  Zorg dat je deze toevoeging ook makkelijk weer aan of uit kunt zetten, zodat je het algoritme met en zonder deze toevoeging kunt testen.\n",
    "\n",
    "Implementeer daarnaast ook nog de volgende twee toevoegingen in het `q_learn` model, die ook makkelijk aan of uit moeten kunnen voor de tests:\n",
    "\n",
    "1.  Leer de robot dat als je in een wak loopt, je ook in dit wak loopt als je van een andere kant op het zelfde hokje loopt. Stel je loop van boven in een wak, leer dan meteen dat je ook in datzelfde wak loopt als je er van links, rechts of van onder in loopt\n",
    "    * *Hint: Houd hierbij rekening met de boundaries, update geen states updaten die niet bestaan of niet in 1 stap bereikbaar zijn.*\n",
    "\n",
    "2. Leer snel af om tegen muren aan te lopen. Nu is deze actie nog geoorloofd en brengt je weer terug op zelfde plek, met een reward van 0. Zorg dat de robot dit niet meer doet.\n",
    "    * *Hint: Leer dit de robot niet af door hier ook een negatieve reward aan te geven, want dan worden de rewards onderling lastiger te vergelijken (gezien er dan meerdere negatieve rewards en 1 positieve reward in een episode kunnen zitten). In plaats daarvan zou je Q-value van de action zelf kunnen aanpassen of aanpassen hoe de action selection precies werkt.*\n",
    "\n",
    "Beide veranderingen kunnen op verschillende manieren worden geimplementeerd. Je kan naar de Q tables kijken om te zien of jouw implementatie gewerkt heeft. \n",
    "\n",
    "Run de verschillende implementaties van het model, met een geen, een of een combinatie van meerdere elementen van kennis. Run elk model 20 keer voor 500 episodes en vergelijk de average rewards. Beschrijf hoe elk element wel of niet bijdraagt aan beter of sneller leren. \n"
   ]
  },
  {
   "cell_type": "markdown",
   "metadata": {},
   "source": [
    "Geen: Krijgt meestal rond de 100 tot 150 episodes als consistente beloningen.\n",
    "\n",
    "1.: Het lukt vaak niet om de fris te vinden en als het lukt krijgt hij pas consistente beloningen vanaf ongeveer 200 episodes.\n",
    "\n",
    "2.: Het lukt soms niet om de frisbee te vinden, maar kan gemiddelde rond de 100 episodes consistente beloningen krijgen.\n",
    "\n",
    "Beiden: Het lukt vaak niet om de frisbee te vinden. Hij kan pas rond 400 episodes een consistente beloning krijgen als het lukt."
   ]
  },
  {
   "cell_type": "code",
   "execution_count": 20,
   "metadata": {},
   "outputs": [],
   "source": [
    "def q_learn_advanced(env, alpha=.8, gamma=.95, epsilon=.1, num_episodes=2000, smart_wak = False, smart_wall = False):\n",
    "\n",
    "    # Initialize Q table with all zeros\n",
    "    states = env.observation_space.n\n",
    "    actions = env.action_space.n\n",
    "    Q = np.zeros([states,actions])\n",
    "\n",
    "    # Create lists to contain total rewards and steps per episode\n",
    "    jList = [] #step list\n",
    "    rList = [] #reward list\n",
    "\n",
    "    # Start learning:\n",
    "    for i in range(num_episodes):\n",
    "        # Reset environment and get first new observation\n",
    "        s = env.reset()\n",
    "        # Total rewards this episode start at 0\n",
    "        rAll = 0\n",
    "        # You are still not done: (d is specific to frozen lake) \n",
    "        d = False\n",
    "        # Run counter reset:\n",
    "        j = 0\n",
    "\n",
    "        # The Q-Table learning algorithm, each episode consists of several learning runs (loops)\n",
    "        while j < 100:\n",
    "            j+=1\n",
    "\n",
    "            # Choose an action by greedily picking from Q table\n",
    "            # NOTE (a)ctions in FrozenLake are 0:left,1:down,2:right,3:up  (this is hardcoded in env.)\n",
    "            # add a tiny tiny bit of noise to the Q table to arbitrate between draws (order of .0001)\n",
    "            # implement the e-greedy rule\n",
    "            a = greedy(Q, s, epsilon)\n",
    "\n",
    "\n",
    "            # Get new state and reward from environment, this can/must be done with env.step from the Gym\n",
    "            # where s1 is the new state, r is the reward, and d means the end (hole or frisbee)\n",
    "            s1,r,d,_ = env.step(a)\n",
    "            \n",
    "            \n",
    "            # negative rewards for wakken\n",
    "            if d and r == 0:\n",
    "                r = -1\n",
    "            \n",
    "            # learn the algorithm not to walk into walls\n",
    "            if smart_wall and s1 == s:\n",
    "                Q[s, a] = 0\n",
    "                \n",
    "            # learn to avoid wakken from every side of the wak\n",
    "            elif smart_wak and d and r != 1:\n",
    "                \n",
    "                # get the vertical step size\n",
    "                vertical = int(np.sqrt(states))\n",
    "                \n",
    "                # update the states, actions that lead to the wak (when possible)\n",
    "                if s1 - 1 >= 0:\n",
    "                    Q[s1-1,2] = update_Q(Q, r, s1, s1-1, 2, alpha, gamma)\n",
    "                    \n",
    "                if s1 + 1 < states:\n",
    "                    Q[s1+1,0] = update_Q(Q, r, s1, s1+1, 0, alpha, gamma)\n",
    "                \n",
    "                if s1 + vertical < states:\n",
    "                    Q[s1+vertical,1] = update_Q(Q, r, s1, s1+vertical, 1, alpha, gamma)\n",
    "                    \n",
    "                if s1 - vertical >= 0:\n",
    "                    Q[s1-vertical,3] = update_Q(Q, r, s1, s1-vertical, 3, alpha, gamma)\n",
    "            else:\n",
    "                # Update Q-Table with new knowledge (assume you pick a with highest value in that state)\n",
    "                Q[s,a] = update_Q(Q, r, s1, s, a, alpha, gamma)\n",
    "                \n",
    "                \n",
    "            # Update total rewards\n",
    "            rAll += r\n",
    "                \n",
    "            # If frisbee or hole (d) then end run\n",
    "            if d:\n",
    "                break\n",
    "\n",
    "            # Update state\n",
    "            s = s1\n",
    "\n",
    "\n",
    "        # Update e, reducing exploration over episodes\n",
    "        epsilon = epsilon*.999\n",
    "        jList.append(j)\n",
    "        rList.append(rAll)\n",
    "\n",
    "    return (rList, jList, Q)"
   ]
  },
  {
   "cell_type": "code",
   "execution_count": 282,
   "metadata": {
    "scrolled": true
   },
   "outputs": [
    {
     "data": {
      "image/png": "[encoded data removed]",
      "text/plain": [
       "<Figure size 432x288 with 1 Axes>"
      ]
     },
     "metadata": {},
     "output_type": "display_data"
    }
   ],
   "source": [
    "three_b = q_learn_advanced(env_8x8, .8, .95, .1, 500, True, True)\n",
    "evaluation(three_b[0], \"rewards\")"
   ]
  },
  {
   "cell_type": "code",
   "execution_count": 258,
   "metadata": {
    "scrolled": true
   },
   "outputs": [
    {
     "data": {
      "image/png": "[encoded data removed]",
      "text/plain": [
       "<Figure size 432x288 with 1 Axes>"
      ]
     },
     "metadata": {},
     "output_type": "display_data"
    }
   ],
   "source": [
    "evaluation(three_b[1], \"# steps\")"
   ]
  },
  {
   "cell_type": "code",
   "execution_count": 259,
   "metadata": {},
   "outputs": [
    {
     "name": "stdout",
     "output_type": "stream",
     "text": [
      "  (Right)\n",
      "SFFFFFFF\n",
      "FFFFFFFF\n",
      "FFF\u001b[41mH\u001b[0mFFFF\n",
      "FFFFFHFF\n",
      "FFFHFFFF\n",
      "FHHFFFHF\n",
      "FHFFHFHF\n",
      "FFFHFFFG\n",
      "\n",
      "[[ 0.00000000e+00  0.00000000e+00  0.00000000e+00  0.00000000e+00\n",
      "   0.00000000e+00  0.00000000e+00  0.00000000e+00  0.00000000e+00]\n",
      " [ 0.00000000e+00  0.00000000e+00  0.00000000e+00  0.00000000e+00\n",
      "   0.00000000e+00  0.00000000e+00  0.00000000e+00  0.00000000e+00]\n",
      " [-1.02305684e-16 -2.31057047e-27  0.00000000e+00  0.00000000e+00\n",
      "   0.00000000e+00  0.00000000e+00  0.00000000e+00  0.00000000e+00]\n",
      " [ 0.00000000e+00 -2.36234583e-46  0.00000000e+00 -2.68435456e-18\n",
      "   0.00000000e+00  0.00000000e+00  0.00000000e+00  0.00000000e+00]\n",
      " [ 0.00000000e+00 -1.18059162e-47 -3.27679839e-11  0.00000000e+00\n",
      "   0.00000000e+00  0.00000000e+00  0.00000000e+00  0.00000000e+00]\n",
      " [ 0.00000000e+00  0.00000000e+00  0.00000000e+00  0.00000000e+00\n",
      "   0.00000000e+00  0.00000000e+00  0.00000000e+00  6.08000000e-01]\n",
      " [ 0.00000000e+00  0.00000000e+00  0.00000000e+00  0.00000000e+00\n",
      "   0.00000000e+00  0.00000000e+00  0.00000000e+00  9.60000000e-01]\n",
      " [ 0.00000000e+00  0.00000000e+00  0.00000000e+00  0.00000000e+00\n",
      "   0.00000000e+00  0.00000000e+00  0.00000000e+00  0.00000000e+00]]\n"
     ]
    },
    {
     "data": {
      "image/png": "[encoded data removed]",
      "text/plain": [
       "<Figure size 288x288 with 1 Axes>"
      ]
     },
     "metadata": {},
     "output_type": "display_data"
    }
   ],
   "source": [
    "env_8x8.render()\n",
    "print()\n",
    "\n",
    "Qmax = [max(x) for x in three_b[2]]\n",
    "\n",
    "Qmax=np.asarray(Qmax).reshape((8,8))\n",
    "print(Qmax)\n",
    "\n",
    "plt.matshow(Qmax)\n",
    "plt.show()\n"
   ]
  },
  {
   "cell_type": "markdown",
   "metadata": {},
   "source": [
    "## 3.c. (10 punten)\n",
    "Verzin zelf nog een ingreep die het model beter kan laten leren, denk dan vooral na over hoe mensen **dit** spel zouden spelen (common sense). Laat zien hoe veel beter jou**w** model werkt (de beste implementaties zullen we bespreken in het college). "
   ]
  },
  {
   "cell_type": "markdown",
   "metadata": {},
   "source": [
    "De robot kan al bijna 2 keer zo snel leren om bij de frisbee te komen. Dit komt doordat de robot blijf spelen tot hij bij een eind komt. Als wij een spel spelen stoppen we ook niet halverwege, maar maken het ook af om ervan te leren."
   ]
  },
  {
   "cell_type": "code",
   "execution_count": 45,
   "metadata": {},
   "outputs": [],
   "source": [
    "def q_learn_to_the_death(env, alpha=.8, gamma=.95, epsilon=.1, num_episodes=2000, smart_wak = False, smart_wall = False):\n",
    "\n",
    "    # Initialize Q table with all zeros\n",
    "    states = env.observation_space.n\n",
    "    actions = env.action_space.n\n",
    "    Q = np.zeros([states,actions])\n",
    "\n",
    "    # Create lists to contain total rewards and steps per episode\n",
    "    jList = [] #step list\n",
    "    rList = [] #reward list\n",
    "\n",
    "    # Start learning:\n",
    "    for i in range(num_episodes):\n",
    "        # Reset environment and get first new observation\n",
    "        s = env.reset()\n",
    "        # Total rewards this episode start at 0\n",
    "        rAll = 0\n",
    "        # You are still not done: (d is specific to frozen lake) \n",
    "        d = False\n",
    "        # Run counter reset:\n",
    "        j = 0\n",
    "\n",
    "        # The Q-Table learning algorithm, each episode consists of several learning runs (loops)\n",
    "        # keep running until you reach an end\n",
    "        while True:\n",
    "            j+=1\n",
    "\n",
    "            # Choose an action by greedily picking from Q table\n",
    "            # NOTE (a)ctions in FrozenLake are 0:left,1:down,2:right,3:up  (this is hardcoded in env.)\n",
    "            # add a tiny tiny bit of noise to the Q table to arbitrate between draws (order of .0001)\n",
    "            # implement the e-greedy rule\n",
    "            a = greedy(Q, s, epsilon)\n",
    "\n",
    "\n",
    "            # Get new state and reward from environment, this can/must be done with env.step from the Gym\n",
    "            # where s1 is the new state, r is the reward, and d means the end (hole or frisbee)\n",
    "            s1,r,d,_ = env.step(a)\n",
    "            \n",
    "            # negative rewards for wakken\n",
    "            if d and r == 0:\n",
    "                r = -1\n",
    "                \n",
    "            # learn the algorithm not to walk into walls\n",
    "            if smart_wall and s1 == s:\n",
    "                Q[s, a] = 0\n",
    "                \n",
    "            # learn to avoid wakken from every side of the wak\n",
    "            elif smart_wak and d and r != 1:\n",
    "                \n",
    "                # get the vertical step size\n",
    "                vertical = int(np.sqrt(states))\n",
    "                \n",
    "                # update the states, actions that lead to the wak (when possible)\n",
    "                if s1 - 1 >= 0:\n",
    "                    Q[s1-1,2] = update_Q(Q, r, s1, s1-1, 2, alpha, gamma)\n",
    "                    \n",
    "                if s1 + 1 < states:\n",
    "                    Q[s1+1,0] = update_Q(Q, r, s1, s1+1, 0, alpha, gamma)\n",
    "                \n",
    "                if s1 + vertical < states:\n",
    "                    Q[s1+vertical,1] = update_Q(Q, r, s1, s1+vertical, 1, alpha, gamma)\n",
    "                    \n",
    "                if s1 - vertical >= 0:\n",
    "                    Q[s1-vertical,3] = update_Q(Q, r, s1, s1-vertical, 3, alpha, gamma)\n",
    "            else:\n",
    "                # Update Q-Table with new knowledge (assume you pick a with highest value in that state)\n",
    "                Q[s,a] = update_Q(Q, r, s1, s, a, alpha, gamma)\n",
    "                \n",
    "                \n",
    "            # Update total rewards\n",
    "            rAll += r\n",
    "                \n",
    "            # If frisbee or hole (d) then end run\n",
    "            if d:\n",
    "                break\n",
    "\n",
    "            # Update state\n",
    "            s = s1\n",
    "\n",
    "\n",
    "        # Update e, reducing exploration over episodes\n",
    "        epsilon = epsilon*.999\n",
    "        jList.append(j)\n",
    "        rList.append(rAll)\n",
    "\n",
    "    return (rList, jList, Q)"
   ]
  },
  {
   "cell_type": "code",
   "execution_count": 46,
   "metadata": {
    "scrolled": true
   },
   "outputs": [
    {
     "data": {
      "image/png": "[encoded data removed]",
      "text/plain": [
       "<Figure size 432x288 with 1 Axes>"
      ]
     },
     "metadata": {},
     "output_type": "display_data"
    }
   ],
   "source": [
    "three_c = q_learn_to_the_death(env_8x8, .8, .95, .1, 1000, True, False)\n",
    "evaluation(three_c[0], \"rewards\")"
   ]
  },
  {
   "cell_type": "code",
   "execution_count": 47,
   "metadata": {},
   "outputs": [
    {
     "data": {
      "image/png": "[encoded data removed]",
      "text/plain": [
       "<Figure size 432x288 with 1 Axes>"
      ]
     },
     "metadata": {},
     "output_type": "display_data"
    }
   ],
   "source": [
    "evaluation(three_b[1], \"# steps\")"
   ]
  },
  {
   "cell_type": "code",
   "execution_count": 27,
   "metadata": {},
   "outputs": [
    {
     "name": "stdout",
     "output_type": "stream",
     "text": [
      "  (Down)\n",
      "SFFFFFFF\n",
      "FFFFFFFF\n",
      "FFFHFFFF\n",
      "FFFFFHFF\n",
      "FFFHFFFF\n",
      "FHHFFFHF\n",
      "FHFFHFHF\n",
      "FFFHFFF\u001b[41mG\u001b[0m\n",
      "\n",
      "[[0.51334208 0.54036009 0.56879882 0.59873694 0.56880009 0.66342043\n",
      "  0.63024938 0.73509151]\n",
      " [0.54036009 0.56880009 0.59873694 0.63024941 0.66342043 0.6983373\n",
      "  0.73509189 0.77378094]\n",
      " [0.51334203 0.54036009 0.56879281 0.         0.63024941 0.59873693\n",
      "  0.77378094 0.81450625]\n",
      " [0.         0.         0.4322604  0.         0.         0.\n",
      "  0.81450625 0.857375  ]\n",
      " [0.         0.         0.         0.         0.         0.521284\n",
      "  0.857375   0.9025    ]\n",
      " [0.         0.         0.         0.         0.         0.\n",
      "  0.         0.95      ]\n",
      " [0.         0.         0.         0.         0.         0.\n",
      "  0.         1.        ]\n",
      " [0.         0.         0.         0.         0.         0.\n",
      "  0.         0.        ]]\n"
     ]
    },
    {
     "data": {
      "image/png": "[encoded data removed]",
      "text/plain": [
       "<Figure size 288x288 with 1 Axes>"
      ]
     },
     "metadata": {},
     "output_type": "display_data"
    }
   ],
   "source": [
    "env_8x8.render()\n",
    "print()\n",
    "\n",
    "Qmax = [max(x) for x in three_c[2]]\n",
    "\n",
    "Qmax=np.asarray(Qmax).reshape((8,8))\n",
    "print(Qmax)\n",
    "\n",
    "plt.matshow(Qmax)\n",
    "plt.show()"
   ]
  },
  {
   "cell_type": "markdown",
   "metadata": {},
   "source": [
    "# Q Networks\n",
    "\n",
    "We hebben nu nog gewerkt met een kleine wereld met maar maximaal 64 states. De echte wereld, en veel leuke spelletjes, hebben natuurlijk een veel grotere state space, en dan wordt het al snel erg lastig om nog een Q table te gaan bijhouden. Dit is waar Q netwerken heel handig zijn, en dan met name Deep Q Networks (DQN). Een deep neural network kan helpen de state space een stuk beter generaliseerbaar te maken, en vergelijkbare Q-values toekennen aan states die veel op elkaar lijken, wat een hele waardevolle eigenschap blijkt (zie bijv. de oorspronkelijke DQN paper over Atari games leren spelen [hier](https://arxiv.org/pdf/1312.5602v1.pdf)).\n",
    "\n",
    "In deze opdracht gaan we nu geen deep Q netwerk in elkaar zetten maar wel een simpel 1-layer Q netwerk, om te leren hoe deze werken en hoe het Q learning algoritme kan worden geïmplementeerd in een netwerk. We maken hier wel gebruik van [TensorFlow](https://www.tensorflow.org/overview/), een library waarmee je eenvoudig (deep) neural networks kan definiëren en trainen. Deze library is zeer geschikt voor DQN, en dus ook weer de frozenlake omgeving: "
   ]
  },
  {
   "cell_type": "code",
   "execution_count": 28,
   "metadata": {},
   "outputs": [],
   "source": [
    "# If the ImportError bells of shame are ringing once again:\n",
    "# https://www.tensorflow.org/install/pip\n",
    "\n",
    "import tensorflow as tf"
   ]
  },
  {
   "cell_type": "markdown",
   "metadata": {},
   "source": [
    "We gaan een simpel Q netwerk opzetten waarbij er voor elke state (16) een node is in de input laag, en voor elke actie (4) een node in the output laag. Het doel is om de gewichten (weights) van het netwerk zo te trainen dat geven een state als input, de 4 outputs corresponderen met de Q-values van de 4 verschillende acties voor die state. Vervolgens kunnen gewoon een *argmax* gebruiken om de actie met met hoogste Q-value te selecteren. \n",
    "\n",
    "Er zijn 16 input nodes, waarbij elke state nu representeerd kan worden met een [one-hot encoding](https://en.wikipedia.org/wiki/One-hot), dus door alleen de input node van die state op 1 te zetten en alle andere input nodes op 0.\n",
    "\n",
    "De `Qout` laag is gedefineerd als de matrix vermenigvuldiging van inputs en weights, dus simpelweg de som van de inputs vermenigvuldig met de weights voor elke output (deze manier om een neural network te definiëren zou je bekend moeten voorkomen uit **Leren**). Er is hier dus *geen* activatiefunctie (zoals bijv. Sigmoid of ReLU), i.e. dit is een netwerk met alleen een lineaire layer.\n",
    "\n",
    "We gebruiken hier de Sum Squared Error tussen de berekende Q-values en de eigenlijke Q-values van een state, als de loss functie om het netwerk te trainen en dit is dus ook de functie die geminimaliseerd wordt tijdens het trainen."
   ]
  },
  {
   "cell_type": "code",
   "execution_count": 29,
   "metadata": {},
   "outputs": [],
   "source": [
    "tf.reset_default_graph()\n",
    "states = env_4x4.observation_space.n\n",
    "actions = env_4x4.action_space.n\n",
    "\n",
    "# These lines establish the feed-forward part of the network used to choose actions\n",
    "# A placeholder (tf.placeholder) is simply a variable that we will assign data to at a later date. \n",
    "# It allows us to create our operations and build our computation graph, without needing the data. \n",
    "# In TensorFlow terminology, we then feed data into the graph through these placeholders.\n",
    "inputs1 = tf.placeholder(shape=[1,states],dtype=tf.float32)\n",
    "# Setting the weights to random value\n",
    "W = tf.Variable(tf.random_uniform([states,actions],0,0.01))\n",
    "\n",
    "Qout = tf.matmul(inputs1,W) # we determine the Q values for each action by multiplying inputs by weights\n",
    "predict = tf.argmax(Qout,1) # \"predicted\" action is action with highest Qout (just like Q-learn above)\n",
    "\n",
    "# Below we obtain the loss by taking the sum of squares difference between the target and prediction Q values.\n",
    "nextQ = tf.placeholder(shape=[1,4],dtype=tf.float32)\n",
    "loss = tf.reduce_sum(tf.square(nextQ - Qout)) # we proberen de \n",
    "trainer = tf.train.GradientDescentOptimizer(learning_rate=0.05)\n",
    "updateModel = trainer.minimize(loss)\n"
   ]
  },
  {
   "cell_type": "markdown",
   "metadata": {},
   "source": [
    "Nu wordt het tijd om het netwerk te gaan trainen. Hiervoor schrijven we de functie ` q_network `. We helpen je hier een heel stuk op weg. Loop stap voor stap de code door om te kijken of je elke stap begrijpt en vergelijk deze met de stappen van het standaard `q_learn()` algoritme dat je hierboven hebt gebruikt. "
   ]
  },
  {
   "cell_type": "code",
   "execution_count": 30,
   "metadata": {},
   "outputs": [],
   "source": [
    "def q_network(env, num_episodes=250, num_rounds=99):\n",
    "    init = tf.initialize_all_variables()\n",
    "    # Set learning parameters\n",
    "    y = .97\n",
    "    e = .3\n",
    "\n",
    "    # Create lists to contain total rewards and steps per episode\n",
    "    jList = []\n",
    "    rList = []\n",
    "    aList = [] # list of actions\n",
    "    maxQnext = [] # list of Q values next state\n",
    "    \n",
    "    # for replay\n",
    "    memory =[]\n",
    "    d_memory =[]\n",
    "    \n",
    "    with tf.Session() as sess:\n",
    "        sess.run(init)\n",
    "        W_init=(sess.run([W])) # save initial weights\n",
    "        for i in range(num_episodes):\n",
    "            # Reset environment and get first new observation\n",
    "            s = env.reset()\n",
    "            rAll = 0\n",
    "            d = False\n",
    "            j = 0\n",
    "            \n",
    "            # The Q-Network, default run it for 99 rounds per episode\n",
    "            while j < num_rounds:\n",
    "                j+=1\n",
    "            \n",
    "                # Choose an action by greedily (with e chance of random action) from the Q-network\n",
    "                # output a = maxQ of current state [s] and targetQ is list of all Q values in state [s]\n",
    "                a,targetQ = sess.run([predict,Qout],feed_dict={inputs1:np.identity(states)[s:s+1]})\n",
    "           \n",
    "                # e greedy:\n",
    "                if np.random.rand(1) < e:\n",
    "                    a[0] = env.action_space.sample()\n",
    "                aList.append(a[0])\n",
    "                \n",
    "                # Get new state and reward from environment\n",
    "                s1,r,d,_ = env.step(a[0])\n",
    "                \n",
    "                if d and r == 0: # falling in a hole will hurt \n",
    "                    r = -1   \n",
    "            \n",
    "                # Obtain the Q values of the next state by feeding the new state through our network, \n",
    "                # and again assuming you will choose the action with the highest Q value\n",
    "                Q1 = sess.run(Qout,feed_dict={inputs1:np.identity(states)[s1:s1+1]})\n",
    "            \n",
    "                # Obtain maxQ' of next state and use this to update the Q value of our chosen action.\n",
    "                maxQ1 = np.max(Q1)\n",
    "                maxQnext.append(maxQ1)\n",
    "                # In list of targetQ values for s, update the Q value of chosen action\n",
    "                targetQ[0,a[0]] = r + y*maxQ1 \n",
    "                \n",
    "                # Train our network using targetQ list, we try to adjust weights in order to \n",
    "                # minimize prediction error or squared error. \n",
    "                _,W1 = sess.run([updateModel,W],feed_dict={inputs1:np.identity(states)[s:s+1],nextQ:targetQ})\n",
    "                rAll += r\n",
    "                s = s1\n",
    "                \n",
    "                if d:\n",
    "                    break\n",
    "            \n",
    "            # Reduce chance of random action as we train the model.\n",
    "            e = e*.995\n",
    "            jList.append(j)\n",
    "            rList.append(rAll)                \n",
    "                \n",
    "        Weights=(sess.run([W])) # lets save the final weigts!\n",
    "   \n",
    "    print(\"\\nAverage reward: \" + str(sum(rList)/num_episodes))\n",
    "    return (rList, jList, aList, W_init, Weights)"
   ]
  },
  {
   "cell_type": "markdown",
   "metadata": {},
   "source": [
    "![](QNET.png) \n",
    "Hier zie je een schema van hoe het netwerk er uit ziet.\n",
    "\n",
    "# 4.a (5 punten)\n",
    "\n",
    "Run het model voor 1 episode, en 1 ronde. Zo kan je volgen wat er na een stap gebeurd is in het netwerk. Rapporteer de initial weights nog voor de eerste stap gezet wordt, geef ook aan welke actie het model gekozen heeft voor die stap en hoe de nieuwe weights na training er uit zien. Gegeven dat er nu voor maar 1 ronde geleerd wordt, zullen de enige weights die worden aangepast, de weights uit de starting state 0 zijn, dus vergelijk alleen weights die bij deze state horen.\n",
    "\n",
    "Geef aan hoe dit in vergelijking is met de `q_learn()`. Verwijs in je uitleg ook naar prediction errors. \n"
   ]
  },
  {
   "cell_type": "markdown",
   "metadata": {},
   "source": [
    "Hier moet nog iets komen maar ik weet nog niet precies wat."
   ]
  },
  {
   "cell_type": "code",
   "execution_count": 56,
   "metadata": {},
   "outputs": [
    {
     "name": "stdout",
     "output_type": "stream",
     "text": [
      "\n",
      "Average reward: 0.0\n"
     ]
    },
    {
     "data": {
      "text/plain": [
       "([0.0], [1], [2], [array([[0.00666955, 0.00660455, 0.00765469, 0.00381983],\n",
       "         [0.00739186, 0.00110775, 0.0003379 , 0.00354203],\n",
       "         [0.00213269, 0.00445718, 0.00514571, 0.00874066],\n",
       "         [0.00779897, 0.00135169, 0.00222979, 0.00595673],\n",
       "         [0.00498841, 0.00802769, 0.00813325, 0.00588192],\n",
       "         [0.00180026, 0.00081391, 0.00391826, 0.00161597],\n",
       "         [0.00974599, 0.00769281, 0.00764718, 0.00513283],\n",
       "         [0.00673582, 0.00380804, 0.00340824, 0.00027375],\n",
       "         [0.00714218, 0.00991419, 0.00381572, 0.00028231],\n",
       "         [0.00090441, 0.00914161, 0.00590002, 0.00388713],\n",
       "         [0.00649459, 0.0088394 , 0.00513912, 0.00699415],\n",
       "         [0.00774733, 0.00779157, 0.00671884, 0.0086438 ],\n",
       "         [0.00207592, 0.00819131, 0.0030821 , 0.00554618],\n",
       "         [0.00588263, 0.00435878, 0.0009491 , 0.00190656],\n",
       "         [0.00130689, 0.00062091, 0.00908908, 0.00380567],\n",
       "         [0.00052969, 0.0055213 , 0.00134696, 0.0080994 ]], dtype=float32)], [array([[0.00666955, 0.00660455, 0.00760623, 0.00381983],\n",
       "         [0.00739186, 0.00110775, 0.0003379 , 0.00354203],\n",
       "         [0.00213269, 0.00445718, 0.00514571, 0.00874066],\n",
       "         [0.00779897, 0.00135169, 0.00222979, 0.00595673],\n",
       "         [0.00498841, 0.00802769, 0.00813325, 0.00588192],\n",
       "         [0.00180026, 0.00081391, 0.00391826, 0.00161597],\n",
       "         [0.00974599, 0.00769281, 0.00764718, 0.00513283],\n",
       "         [0.00673582, 0.00380804, 0.00340824, 0.00027375],\n",
       "         [0.00714218, 0.00991419, 0.00381572, 0.00028231],\n",
       "         [0.00090441, 0.00914161, 0.00590002, 0.00388713],\n",
       "         [0.00649459, 0.0088394 , 0.00513912, 0.00699415],\n",
       "         [0.00774733, 0.00779157, 0.00671884, 0.0086438 ],\n",
       "         [0.00207592, 0.00819131, 0.0030821 , 0.00554618],\n",
       "         [0.00588263, 0.00435878, 0.0009491 , 0.00190656],\n",
       "         [0.00130689, 0.00062091, 0.00908908, 0.00380567],\n",
       "         [0.00052969, 0.0055213 , 0.00134696, 0.0080994 ]], dtype=float32)])"
      ]
     },
     "execution_count": 56,
     "metadata": {},
     "output_type": "execute_result"
    }
   ],
   "source": [
    "four_a = q_network(env_4x4, 1, 1)\n",
    "four_a"
   ]
  },
  {
   "cell_type": "markdown",
   "metadata": {},
   "source": [
    "# 4.b (5 punten)\n",
    "\n",
    "Run nu nogmaals het netwerk maar nu met 500 episodes en 99 rounds per episode. Laat net als bij `q_learn` nu zien hoe goed het netwerk is over tijd (rewards & number of steps). Maar laat nu ook zien wat de weights/Q-values zijn voor de vier mogelijke acties in het hokje links naast de frisbee (state 14). Heeft de beste actie ook de hoogste waarde?\n",
    "\n",
    "Gegeven dat states in dit model gepresenteerd worden met een one-hot encoding, en dat het model alleen uit 1 lineaire laag bestaat, worden de Q-values in dit simpele model nog op een vrij directe manier geleerd. Wat is hier dus de relatie tussen de weight matrix en Q-table?\n"
   ]
  },
  {
   "cell_type": "code",
   "execution_count": 57,
   "metadata": {},
   "outputs": [
    {
     "name": "stdout",
     "output_type": "stream",
     "text": [
      "\n",
      "Average reward: 0.648\n"
     ]
    },
    {
     "data": {
      "text/plain": [
       "([array([[0.00100912, 0.00502546, 0.00931684, 0.00285869],\n",
       "         [0.00274831, 0.00531536, 0.00548217, 0.00481464],\n",
       "         [0.00074849, 0.00604663, 0.00463552, 0.00713723],\n",
       "         [0.00035285, 0.00798096, 0.00040951, 0.00632249],\n",
       "         [0.0003369 , 0.00604308, 0.00510077, 0.0055266 ],\n",
       "         [0.00345909, 0.00914385, 0.00235166, 0.00042077],\n",
       "         [0.00060769, 0.00771665, 0.00335595, 0.00024675],\n",
       "         [0.00385202, 0.00655082, 0.00558271, 0.00864569],\n",
       "         [0.00435771, 0.00528617, 0.00726778, 0.00240639],\n",
       "         [0.00034699, 0.00105124, 0.00055079, 0.00580116],\n",
       "         [0.00491365, 0.006335  , 0.00497131, 0.00780022],\n",
       "         [0.00866279, 0.00421368, 0.00171628, 0.00690756],\n",
       "         [0.00938186, 0.0001159 , 0.00520953, 0.00719222],\n",
       "         [0.0025506 , 0.00779479, 0.0053964 , 0.00885182],\n",
       "         [0.00351588, 0.00669478, 0.00580448, 0.00782727],\n",
       "         [0.00348798, 0.00411492, 0.0049826 , 0.00319777]], dtype=float32)],\n",
       " [array([[ 4.2492667e-01,  1.2416803e-02,  8.6288249e-01,  3.3694485e-01],\n",
       "         [ 5.0151473e-01, -8.2495141e-01,  8.8956988e-01,  2.6841798e-01],\n",
       "         [ 6.0639107e-01,  9.1708267e-01,  1.8851195e-01,  3.5483056e-01],\n",
       "         [ 5.3414482e-01, -4.6038809e-01,  1.4374866e-03,  5.7085212e-03],\n",
       "         [ 3.3690213e-04,  5.3953074e-02, -9.4522364e-02,  5.5961492e-03],\n",
       "         [ 3.4590911e-03,  9.1438470e-03,  2.3516607e-03,  4.2076706e-04],\n",
       "         [-8.8261551e-01,  9.4544637e-01, -8.0724376e-01,  3.3781457e-01],\n",
       "         [ 3.8520156e-03,  6.5508196e-03,  5.5827103e-03,  8.6456854e-03],\n",
       "         [ 1.8531669e-02,  5.2861748e-03,  2.2296481e-01,  2.8003613e-03],\n",
       "         [ 4.6862480e-03,  4.8276164e-02,  7.0022327e-01, -3.3704364e-01],\n",
       "         [ 2.6579091e-01,  9.7468722e-01, -8.4201753e-01,  6.1232519e-01],\n",
       "         [ 8.6627910e-03,  4.2136824e-03,  1.7162764e-03,  6.9075609e-03],\n",
       "         [ 9.3818624e-03,  1.1589765e-04,  5.2095293e-03,  7.1922205e-03],\n",
       "         [-4.0427721e-01,  7.1874307e-03,  5.8648258e-01,  6.6593955e-03],\n",
       "         [ 1.9221111e-01,  7.8460509e-01,  1.0048325e+00,  5.3734428e-01],\n",
       "         [ 3.4879779e-03,  4.1149152e-03,  4.9826037e-03,  3.1977701e-03]],\n",
       "        dtype=float32)])"
      ]
     },
     "execution_count": 57,
     "metadata": {},
     "output_type": "execute_result"
    }
   ],
   "source": [
    "four_b = q_network(env_4x4, 500, 99)\n",
    "four_b[3:]"
   ]
  },
  {
   "cell_type": "markdown",
   "metadata": {},
   "source": [
    "# 4.c Experience Replay (20 punten)\n",
    "\n",
    "Over de tijd zijn de Q_networks op vele manier uitgebreid om nog beter te kunnen leren. Een ding wat we al genoemd hadden was bijvoorbeeld het toevoegen van meerdere lagen. Maar zo is er ook het idee van experience replay, iets wat gebaseerd is op hoe de hersens werken. Wat dit inhoud is dat de robot tussen leer episodes door in zijn geheugen graaft en kijkt wat hij hiervoor gedaan heeft en wat de uitkomst daar van was. Deze herinneringen worden dan weer gebruikt om van te leren (alsof elke herinnering weer een echte gebeurtenis was). Experience replay wordt veel gebruikt in reinforcement learning, de DQN Atari paper gelinked in de section *Q networks* maakt hier bijvoorbeeld ook gebruik van.\n",
    "\n",
    "Wat we hier gaan doen is experience replay toevoegen aan het Q_netwerk. Je hebt hier eigenlijk maar een ding voor nodig; een memory buffer (`memory =[]`)\n",
    "\n",
    "In deze buffer sla voor elke episode van elke run op wat er gebeurde. De staat waar in je was, welke actie je hebt ondernomen, of je een beloning kreeg, welke staat je terecht kwam en of dit het einde van de episode was):   `memory.append((s, a[0], r, s1, d))`\n",
    "\n",
    "Aan het eind van elke episode haal je dan 30 keer een willekeurige herinnering boven en speelt deze weer **af** alsof het echt gebeurde (dus zorgt voor een zelfde update in weights als normaal leren). Bij het begin van een nieuwe leer episode wordt de buffer weer leeggemaakt om ruimte te maken voor nieuwe evaringen. \n",
    "\n",
    "implementeer deze experience replay. Vergelijk de prestatie van het model met en zonder replay, door het beiden modelen op zn minst 10 keer aan te roepen en te kijken naar de verschillen in gemiddelde beloning. "
   ]
  },
  {
   "cell_type": "markdown",
   "metadata": {},
   "source": [
    "De gemiddelde beloning is lager. Dit kan komen door korte episodes de eindigen in een wak. De kans dat de robot deze slechte stappen dan leert is groter en het zal dan langer duren voordat hij de goede stappen leert."
   ]
  },
  {
   "cell_type": "code",
   "execution_count": 33,
   "metadata": {},
   "outputs": [],
   "source": [
    "def q_network_er(env, num_episodes=250, num_rounds=99):\n",
    "    init = tf.initialize_all_variables()\n",
    "    # Set learning parameters\n",
    "    y = .97\n",
    "    e = .3\n",
    "\n",
    "    # Create lists to contain total rewards and steps per episode\n",
    "    jList = []\n",
    "    rList = []\n",
    "    aList = [] # list of actions\n",
    "    maxQnext = [] # list of Q values next state\n",
    "    \n",
    "    # for replay\n",
    "    memory =[]\n",
    "    d_memory =[]\n",
    "    \n",
    "    with tf.Session() as sess:\n",
    "        sess.run(init)\n",
    "        W_init=(sess.run([W])) # save initial weights\n",
    "        for i in range(num_episodes):\n",
    "            # Reset environment and get first new observation\n",
    "            s = env.reset()\n",
    "            rAll = 0\n",
    "            d = False\n",
    "            j = 0\n",
    "            memory = []\n",
    "            \n",
    "            # The Q-Network, default run it for 99 rounds per episode\n",
    "            while j < num_rounds:\n",
    "                j+=1\n",
    "            \n",
    "                # Choose an action by greedily (with e chance of random action) from the Q-network\n",
    "                # output a = maxQ of current state [s] and targetQ is list of all Q values in state [s]\n",
    "                a,targetQ = sess.run([predict,Qout],feed_dict={inputs1:np.identity(states)[s:s+1]})\n",
    "           \n",
    "                # e greedy:\n",
    "                if np.random.rand(1) < e:\n",
    "                    a[0] = env.action_space.sample()\n",
    "                aList.append(a[0])\n",
    "                \n",
    "                # Get new state and reward from environment\n",
    "                s1,r,d,_ = env.step(a[0])\n",
    "                \n",
    "                if d and r == 0: # falling in a hole will hurt \n",
    "                    r = -1   \n",
    "                    \n",
    "                # store in memory\n",
    "                memory.append((s, a[0], r, s1, d))\n",
    "            \n",
    "                # Obtain the Q values of the next state by feeding the new state through our network, \n",
    "                # and again assuming you will choose the action with the highest Q value\n",
    "                Q1 = sess.run(Qout,feed_dict={inputs1:np.identity(states)[s1:s1+1]})\n",
    "            \n",
    "                # Obtain maxQ' of next state and use this to update the Q value of our chosen action.\n",
    "                maxQ1 = np.max(Q1)\n",
    "                maxQnext.append(maxQ1)\n",
    "                # In list of targetQ values for s, update the Q value of chosen action\n",
    "                targetQ[0,a[0]] = r + y*maxQ1 \n",
    "                \n",
    "                # Train our network using targetQ list, we try to adjust weights in order to \n",
    "                # minimize prediction error or squared error. \n",
    "                _,W1 = sess.run([updateModel,W],feed_dict={inputs1:np.identity(states)[s:s+1],nextQ:targetQ})\n",
    "                rAll += r\n",
    "                s = s1\n",
    "                \n",
    "                if d:\n",
    "                    break\n",
    "                    \n",
    "            for something in range(30):\n",
    "                \n",
    "                # get a random memory\n",
    "                s, a[0], r, s1, d = random.choice(memory)\n",
    "                \n",
    "                 # Obtain the Q values of the next state by feeding the new state through our network, \n",
    "                # and again assuming you will choose the action with the highest Q value\n",
    "                Q1 = sess.run(Qout,feed_dict={inputs1:np.identity(states)[s1:s1+1]})\n",
    "            \n",
    "                # Obtain maxQ' of next state and use this to update the Q value of our chosen action.\n",
    "                maxQ1 = np.max(Q1)\n",
    "                maxQnext.append(maxQ1)\n",
    "                # In list of targetQ values for s, update the Q value of chosen action\n",
    "                targetQ[0,a[0]] = r + y*maxQ1 \n",
    "                \n",
    "                # Train our network using targetQ list, we try to adjust weights in order to \n",
    "                # minimize prediction error or squared error. \n",
    "                _,W1 = sess.run([updateModel,W],feed_dict={inputs1:np.identity(states)[s:s+1],nextQ:targetQ})\n",
    "            \n",
    "            # Reduce chance of random action as we train the model.\n",
    "            e = e*.995\n",
    "            jList.append(j)\n",
    "            rList.append(rAll)   \n",
    "            \n",
    "                \n",
    "        Weights=(sess.run([W])) # lets save the final weigts!\n",
    "   \n",
    "    print(\"\\nAverage reward: \" + str(sum(rList)/num_episodes))\n",
    "    return (rList, jList, aList, W_init, Weights)"
   ]
  },
  {
   "cell_type": "code",
   "execution_count": 34,
   "metadata": {},
   "outputs": [
    {
     "name": "stdout",
     "output_type": "stream",
     "text": [
      "\n",
      "Average reward: 0.238\n"
     ]
    }
   ],
   "source": [
    "four_c = q_network_er(env_4x4, 500, 99)"
   ]
  },
  {
   "cell_type": "markdown",
   "metadata": {},
   "source": [
    "# 4.d Better memories (5 punten)\n",
    "We hebben nu naar replay gekeken waarbij je naar willekeurige herinneringen gaat kijken. Dit voor DQNs al een zeer goede invloed, maar het kan beter. Er zijn verschillende algoritmes bedacht waarbij niet naar willekeurige maar juist naar specifieke herinneringen werdt gekeken o**m** het leren nog verder te optimaliseren. Bedenk en implementeer een vorm van optimalisatie van de replay functie, en test deze ook. Schrijf in je antwoord je motivatie voor je aanpassing (die is belangrijker dan het slagen er van). Moge de beste aanpassing winnen! "
   ]
  },
  {
   "cell_type": "code",
   "execution_count": 35,
   "metadata": {},
   "outputs": [],
   "source": [
    "def q_network_BEST(env, num_episodes=250, num_rounds=99):\n",
    "    init = tf.initialize_all_variables()\n",
    "    # Set learning parameters\n",
    "    y = .97\n",
    "    e = .3\n",
    "\n",
    "    # Create lists to contain total rewards and steps per episode\n",
    "    jList = []\n",
    "    rList = []\n",
    "    aList = [] # list of actions\n",
    "    maxQnext = [] # list of Q values next state\n",
    "    \n",
    "    # for replay\n",
    "    memory =[]\n",
    "    d_memory =[]\n",
    "    \n",
    "    with tf.Session() as sess:\n",
    "        sess.run(init)\n",
    "        W_init=(sess.run([W])) # save initial weights\n",
    "        for i in range(num_episodes):\n",
    "            # Reset environment and get first new observation\n",
    "            s = env.reset()\n",
    "            rAll = 0\n",
    "            d = False\n",
    "            j = 0\n",
    "            memory = []\n",
    "            \n",
    "            # The Q-Network, default run it for 99 rounds per episode\n",
    "            while j < num_rounds:\n",
    "                j+=1\n",
    "            \n",
    "                # Choose an action by greedily (with e chance of random action) from the Q-network\n",
    "                # output a = maxQ of current state [s] and targetQ is list of all Q values in state [s]\n",
    "                a,targetQ = sess.run([predict,Qout],feed_dict={inputs1:np.identity(states)[s:s+1]})\n",
    "           \n",
    "                # e greedy:\n",
    "                if np.random.rand(1) < e:\n",
    "                    a[0] = env.action_space.sample()\n",
    "                aList.append(a[0])\n",
    "                \n",
    "                # Get new state and reward from environment\n",
    "                s1,r,d,_ = env.step(a[0])\n",
    "                \n",
    "                if d and r == 0: # falling in a hole will hurt \n",
    "                    r = -1   \n",
    "                    \n",
    "                # store in memory\n",
    "                memory.append((s, a[0], r, s1, d))\n",
    "            \n",
    "                # Obtain the Q values of the next state by feeding the new state through our network, \n",
    "                # and again assuming you will choose the action with the highest Q value\n",
    "                Q1 = sess.run(Qout,feed_dict={inputs1:np.identity(states)[s1:s1+1]})\n",
    "            \n",
    "                # Obtain maxQ' of next state and use this to update the Q value of our chosen action.\n",
    "                maxQ1 = np.max(Q1)\n",
    "                maxQnext.append(maxQ1)\n",
    "                # In list of targetQ values for s, update the Q value of chosen action\n",
    "                targetQ[0,a[0]] = r + y*maxQ1 \n",
    "                \n",
    "                # Train our network using targetQ list, we try to adjust weights in order to \n",
    "                # minimize prediction error or squared error. \n",
    "                _,W1 = sess.run([updateModel,W],feed_dict={inputs1:np.identity(states)[s:s+1],nextQ:targetQ})\n",
    "                rAll += r\n",
    "                s = s1\n",
    "                \n",
    "                if d:\n",
    "                    break\n",
    "             \n",
    "            mem = 0\n",
    "            while mem < 30:\n",
    "                \n",
    "                # get a random memory\n",
    "                s, a[0], r, s1, d = random.choice(memory)\n",
    "                \n",
    "                if r == 0:\n",
    "                    continue\n",
    "\n",
    "                mem += 1\n",
    "                \n",
    "                # Obtain the Q values of the next state by feeding the new state through our network, \n",
    "                # and again assuming you will choose the action with the highest Q value\n",
    "                Q1 = sess.run(Qout,feed_dict={inputs1:np.identity(states)[s1:s1+1]})\n",
    "\n",
    "                # Obtain maxQ' of next state and use this to update the Q value of our chosen action.\n",
    "                maxQ1 = np.max(Q1)\n",
    "                maxQnext.append(maxQ1)\n",
    "                # In list of targetQ values for s, update the Q value of chosen action\n",
    "                targetQ[0,a[0]] = r + y*maxQ1 \n",
    "\n",
    "                # Train our network using targetQ list, we try to adjust weights in order to \n",
    "                # minimize prediction error or squared error. \n",
    "                _,W1 = sess.run([updateModel,W],feed_dict={inputs1:np.identity(states)[s:s+1],nextQ:targetQ})\n",
    "            \n",
    "            # Reduce chance of random action as we train the model.\n",
    "            e = e*.995\n",
    "            jList.append(j)\n",
    "            rList.append(rAll)   \n",
    "            \n",
    "                \n",
    "        Weights=(sess.run([W])) # lets save the final weigts!\n",
    "   \n",
    "    print(\"\\nAverage reward: \" + str(sum(rList)/num_episodes))\n",
    "    return (rList, jList, aList, W_init, Weights)"
   ]
  },
  {
   "cell_type": "code",
   "execution_count": 36,
   "metadata": {},
   "outputs": [
    {
     "name": "stdout",
     "output_type": "stream",
     "text": [
      "\n",
      "Average reward: 0.898\n"
     ]
    }
   ],
   "source": [
    "four_d = q_network_BEST(env_4x4, 2000, 99)"
   ]
  },
  {
   "cell_type": "code",
   "execution_count": null,
   "metadata": {},
   "outputs": [],
   "source": []
  }
 ],
 "metadata": {
  "kernelspec": {
   "display_name": "Python 3",
   "language": "python",
   "name": "python3"
  },
  "language_info": {
   "codemirror_mode": {
    "name": "ipython",
    "version": 3
   },
   "file_extension": ".py",
   "mimetype": "text/x-python",
   "name": "python",
   "nbconvert_exporter": "python",
   "pygments_lexer": "ipython3",
   "version": "3.6.7"
  }
 },
 "nbformat": 4,
 "nbformat_minor": 2
}
